{
 "cells": [
  {
   "cell_type": "markdown",
   "metadata": {},
   "source": [
    "# 机器学习工程师纳米学位（试学班）\n",
    "## 项目 0: 预测你的下一道世界料理\n",
    "\n",
    "\n",
    "欢迎来到机器学习的预测烹饪菜系项目！在此文件中，有些示例代码已经提供给你，但你还需要实现更多的功能来让项目成功运行。除非有明确要求，你无须修改任何已给出的代码。以**编程练习**开始的标题表示接下来的内容中有需要你必须实现的功能。每一部分都会有详细的指导，需要实现的部分也会在注释中以**TODO**标出。请仔细阅读所有的提示！\n",
    "\n",
    "- **实验任务**：给定佐料名称，预测菜品所属的菜系。\n",
    "- **实验步骤**：菜品数据载入；佐料名称预处理，并预览数据集结构；载入逻辑回归模型，并训练；结果测试并提交，查看实验分数。\n",
    "\n",
    ">**提示：**Code 和 Markdown 区域可通过 **Shift + Enter** 快捷键运行。此外，Markdown可以通过双击进入编辑模式。"
   ]
  },
  {
   "cell_type": "code",
   "execution_count": 1,
   "metadata": {},
   "outputs": [
    {
     "name": "stdout",
     "output_type": "stream",
     "text": [
      "[nltk_data] Downloading package wordnet to /root/nltk_data...\n",
      "[nltk_data]   Unzipping corpora/wordnet.zip.\n"
     ]
    }
   ],
   "source": [
    "### 运行以下代码安装环境\n",
    "!python -c \"import nltk; nltk.download('wordnet')\""
   ]
  },
  {
   "cell_type": "code",
   "execution_count": 2,
   "metadata": {},
   "outputs": [
    {
     "name": "stdout",
     "output_type": "stream",
     "text": [
      "\n",
      "The following command must be run outside of the IPython shell:\n",
      "\n",
      "    $ pip install helper\n",
      "\n",
      "The Python package manager (pip) can only be used from outside of IPython.\n",
      "Please reissue the `pip` command in a separate terminal or command prompt.\n",
      "\n",
      "See the Python documentation for more information on how to install packages:\n",
      "\n",
      "    https://docs.python.org/3/installing/\n"
     ]
    }
   ],
   "source": [
    "pip install helper"
   ]
  },
  {
   "cell_type": "markdown",
   "metadata": {},
   "source": [
    "---\n",
    "## 第一步. 下载并导入数据\n",
    "在这个项目中，你将利用[Yummly](https://www.yummly.com/)所提供的数据集来训练和测试一个模型，并对模型的性能和预测能力进行测试。通过该数据训练后的好的模型可以被用来对菜系进行预测。\n",
    "\n",
    "此项目的数据集来自[Kaggle What's Cooking 竞赛](https://www.kaggle.com/c/whats-cooking/data)。共 39774/9944 个训练和测试数据点，涵盖了中国菜、越南菜、法国菜等的信息。数据集包含以下特征：\n",
    "- 'id'：24717, 数据编号\n",
    "- 'cuisine'：\"indian\", 菜系\n",
    "- 'ingredients'：[\"tumeric\", \"vegetable stock\", ...] 此菜所包含的佐料\n",
    "\n",
    "首先你需要前往此 [菜系数据集](https://www.kaggle.com/c/whats-cooking/data) 下载(选择 **Download All** )。如果不能正常下载，请参考教室中的下载教程。然后运行下面区域的代码以载入数据集，以及一些此项目所需的 Python 库。如果成功返回数据集的大小，表示数据集已载入成功。"
   ]
  },
  {
   "cell_type": "markdown",
   "metadata": {},
   "source": [
    "### 1.1 配置环境\n",
    "首先按照本目录中`README.md`文件中的第一部分内容，配置实验开发环境和所需库函数。"
   ]
  },
  {
   "cell_type": "markdown",
   "metadata": {},
   "source": [
    "### 1.2 加载数据 \n",
    "其次，在下载完实验数据集后，我们将其解压至当前目录中(即：`MLND-cn-trial\\`目录下面)， 然后依次输入以下代码，加载本次实验的训练集和测试集。"
   ]
  },
  {
   "cell_type": "code",
   "execution_count": 3,
   "metadata": {},
   "outputs": [
    {
     "name": "stdout",
     "output_type": "stream",
     "text": [
      "菜名数据集一共包含 39774 训练数据 和 9944 测试样例。\n",
      "\n",
      "数据成功载入！\n"
     ]
    }
   ],
   "source": [
    "## 请不要修改下方代码\n",
    "# 导入依赖库\n",
    "import json\n",
    "import codecs\n",
    "import pandas as pd\n",
    "import numpy as np\n",
    "import matplotlib.pyplot as plt\n",
    "%matplotlib inline\n",
    "\n",
    "# 加载数据集\n",
    "train_filename='train.json'\n",
    "train_content = pd.read_json(codecs.open(train_filename, mode='r', encoding='utf-8'))\n",
    "\n",
    "test_filename = 'test.json'\n",
    "test_content = pd.read_json(codecs.open(test_filename, mode='r', encoding='utf-8'))\n",
    "    \n",
    "# 打印加载的数据集数量\n",
    "print(\"菜名数据集一共包含 {} 训练数据 和 {} 测试样例。\\n\".format(len(train_content), len(test_content)))\n",
    "if len(train_content)==39774 and len(test_content)==9944:\n",
    "    print(\"数据成功载入！\")\n",
    "else:\n",
    "    print(\"数据载入有问题，请检查文件路径！\")"
   ]
  },
  {
   "cell_type": "markdown",
   "metadata": {},
   "source": [
    "### 1.3 数据预览\n",
    "为了查看我们的数据集的分布和菜品总共的种类，我们打印出部分数据样例。"
   ]
  },
  {
   "cell_type": "code",
   "execution_count": 4,
   "metadata": {},
   "outputs": [],
   "source": [
    "## 请不要修改下方代码\n",
    "pd.set_option('display.max_colwidth',120)"
   ]
  },
  {
   "cell_type": "markdown",
   "metadata": {},
   "source": [
    "### 编程练习\n",
    "你需要通过`head()`函数来预览训练集`train_content`数据。（输出前5条）"
   ]
  },
  {
   "cell_type": "code",
   "execution_count": 5,
   "metadata": {},
   "outputs": [
    {
     "data": {
      "text/html": [
       "<div>\n",
       "<style>\n",
       "    .dataframe thead tr:only-child th {\n",
       "        text-align: right;\n",
       "    }\n",
       "\n",
       "    .dataframe thead th {\n",
       "        text-align: left;\n",
       "    }\n",
       "\n",
       "    .dataframe tbody tr th {\n",
       "        vertical-align: top;\n",
       "    }\n",
       "</style>\n",
       "<table border=\"1\" class=\"dataframe\">\n",
       "  <thead>\n",
       "    <tr style=\"text-align: right;\">\n",
       "      <th></th>\n",
       "      <th>cuisine</th>\n",
       "      <th>id</th>\n",
       "      <th>ingredients</th>\n",
       "    </tr>\n",
       "  </thead>\n",
       "  <tbody>\n",
       "    <tr>\n",
       "      <th>0</th>\n",
       "      <td>greek</td>\n",
       "      <td>10259</td>\n",
       "      <td>[romaine lettuce, black olives, grape tomatoes, garlic, pepper, purple onion, seasoning, garbanzo beans, feta cheese...</td>\n",
       "    </tr>\n",
       "    <tr>\n",
       "      <th>1</th>\n",
       "      <td>southern_us</td>\n",
       "      <td>25693</td>\n",
       "      <td>[plain flour, ground pepper, salt, tomatoes, ground black pepper, thyme, eggs, green tomatoes, yellow corn meal, mil...</td>\n",
       "    </tr>\n",
       "    <tr>\n",
       "      <th>2</th>\n",
       "      <td>filipino</td>\n",
       "      <td>20130</td>\n",
       "      <td>[eggs, pepper, salt, mayonaise, cooking oil, green chilies, grilled chicken breasts, garlic powder, yellow onion, so...</td>\n",
       "    </tr>\n",
       "    <tr>\n",
       "      <th>3</th>\n",
       "      <td>indian</td>\n",
       "      <td>22213</td>\n",
       "      <td>[water, vegetable oil, wheat, salt]</td>\n",
       "    </tr>\n",
       "    <tr>\n",
       "      <th>4</th>\n",
       "      <td>indian</td>\n",
       "      <td>13162</td>\n",
       "      <td>[black pepper, shallots, cornflour, cayenne pepper, onions, garlic paste, milk, butter, salt, lemon juice, water, ch...</td>\n",
       "    </tr>\n",
       "  </tbody>\n",
       "</table>\n",
       "</div>"
      ],
      "text/plain": [
       "       cuisine     id  \\\n",
       "0        greek  10259   \n",
       "1  southern_us  25693   \n",
       "2     filipino  20130   \n",
       "3       indian  22213   \n",
       "4       indian  13162   \n",
       "\n",
       "                                                                                                               ingredients  \n",
       "0  [romaine lettuce, black olives, grape tomatoes, garlic, pepper, purple onion, seasoning, garbanzo beans, feta cheese...  \n",
       "1  [plain flour, ground pepper, salt, tomatoes, ground black pepper, thyme, eggs, green tomatoes, yellow corn meal, mil...  \n",
       "2  [eggs, pepper, salt, mayonaise, cooking oil, green chilies, grilled chicken breasts, garlic powder, yellow onion, so...  \n",
       "3                                                                                      [water, vegetable oil, wheat, salt]  \n",
       "4  [black pepper, shallots, cornflour, cayenne pepper, onions, garlic paste, milk, butter, salt, lemon juice, water, ch...  "
      ]
     },
     "execution_count": 5,
     "metadata": {},
     "output_type": "execute_result"
    }
   ],
   "source": [
    "### TODO：打印train_content中前5个数据样例以预览数据\n",
    "train_content.head()"
   ]
  },
  {
   "cell_type": "code",
   "execution_count": 6,
   "metadata": {},
   "outputs": [
    {
     "name": "stdout",
     "output_type": "stream",
     "text": [
      "一共包含 20 种菜品，分别是:\n",
      "['brazilian' 'british' 'cajun_creole' 'chinese' 'filipino' 'french' 'greek'\n",
      " 'indian' 'irish' 'italian' 'jamaican' 'japanese' 'korean' 'mexican'\n",
      " 'moroccan' 'russian' 'southern_us' 'spanish' 'thai' 'vietnamese']\n"
     ]
    }
   ],
   "source": [
    "## 请不要修改下方代码\n",
    "## 查看总共菜品分类\n",
    "categories=np.unique(train_content['cuisine'])\n",
    "print(\"一共包含 {} 种菜品，分别是:\\n{}\".format(len(categories),categories))"
   ]
  },
  {
   "cell_type": "markdown",
   "metadata": {},
   "source": [
    "---\n",
    "## 第二步. 分析数据\n",
    "在项目的第二个部分，你会对菜肴数据进行初步的观察并给出你的分析。通过对数据的探索来熟悉数据可以让你更好地理解和解释你的结果。\n",
    "\n",
    "由于这个项目的最终目标是建立一个预测世界菜系的模型，我们需要将数据集分为**特征(Features)**和**目标变量(Target Variables)**。\n",
    "- **特征**: `'ingredients'`，给我们提供了每个菜品所包含的佐料名称。\n",
    "- **目标变量**：` 'cuisine'`，是我们希望预测的菜系分类。\n",
    "\n",
    "他们分别被存在 `train_ingredients` 和 `train_targets` 两个变量名中。"
   ]
  },
  {
   "cell_type": "markdown",
   "metadata": {},
   "source": [
    "### 编程练习：数据提取\n",
    "* 将`train_content`中的`ingredients`赋值到`train_integredients`\n",
    "* 将`train_content`中的`cuisine`赋值到`train_targets`"
   ]
  },
  {
   "cell_type": "code",
   "execution_count": 7,
   "metadata": {
    "scrolled": true
   },
   "outputs": [
    {
     "name": "stdout",
     "output_type": "stream",
     "text": [
      "0        [romaine lettuce, black olives, grape tomatoes, garlic, pepper, purple onion, seasoning, garbanzo beans, feta cheese...\n",
      "1        [plain flour, ground pepper, salt, tomatoes, ground black pepper, thyme, eggs, green tomatoes, yellow corn meal, mil...\n",
      "2        [eggs, pepper, salt, mayonaise, cooking oil, green chilies, grilled chicken breasts, garlic powder, yellow onion, so...\n",
      "3                                                                                            [water, vegetable oil, wheat, salt]\n",
      "4        [black pepper, shallots, cornflour, cayenne pepper, onions, garlic paste, milk, butter, salt, lemon juice, water, ch...\n",
      "5        [plain flour, sugar, butter, eggs, fresh ginger root, salt, ground cinnamon, milk, vanilla extract, ground ginger, p...\n",
      "6        [olive oil, salt, medium shrimp, pepper, garlic, chopped cilantro, jalapeno chilies, flat leaf parsley, skirt steak,...\n",
      "7        [sugar, pistachio nuts, white almond bark, flour, vanilla extract, olive oil, almond extract, eggs, baking powder, d...\n",
      "8        [olive oil, purple onion, fresh pineapple, pork, poblano peppers, corn tortillas, cheddar cheese, ground black peppe...\n",
      "9                                [chopped tomatoes, fresh basil, garlic, extra-virgin olive oil, kosher salt, flat leaf parsley]\n",
      "10       [pimentos, sweet pepper, dried oregano, olive oil, garlic, sharp cheddar cheese, pepper, swiss cheese, provolone che...\n",
      "11       [low sodium soy sauce, fresh ginger, dry mustard, green beans, white pepper, sesame oil, scallions, canola oil, suga...\n",
      "12       [Italian parsley leaves, walnuts, hot red pepper flakes, extra-virgin olive oil, fresh lemon juice, trout fillet, ga...\n",
      "13       [ground cinnamon, fresh cilantro, chili powder, ground coriander, kosher salt, ground black pepper, garlic, plum tom...\n",
      "14       [fresh parmesan cheese, butter, all-purpose flour, fat free less sodium chicken broth, chopped fresh chives, gruyere...\n",
      "15       [tumeric, vegetable stock, tomatoes, garam masala, naan, red lentils, red chili peppers, onions, spinach, sweet pota...\n",
      "16                                                                  [greek yogurt, lemon curd, confectioners sugar, raspberries]\n",
      "17                                                 [italian seasoning, broiler-fryer chicken, mayonaise, zesty italian dressing]\n",
      "18                                                                              [sugar, hot chili, asian fish sauce, lime juice]\n",
      "19       [soy sauce, vegetable oil, red bell pepper, chicken broth, yellow squash, garlic chili sauce, sliced green onions, b...\n",
      "20       [pork loin, roasted peanuts, chopped cilantro fresh, hoisin sauce, creamy peanut butter, chopped fresh mint, thai ba...\n",
      "21                                          [roma tomatoes, kosher salt, purple onion, jalapeno chilies, lime, chopped cilantro]\n",
      "22                                                [low-fat mayonnaise, pepper, salt, baking potatoes, eggs, spicy brown mustard]\n",
      "23       [sesame seeds, red pepper, yellow peppers, water, extra firm tofu, broccoli, soy sauce, orange bell pepper, arrowroo...\n",
      "24       [marinara sauce, flat leaf parsley, olive oil, linguine, capers, crushed red pepper flakes, olives, lemon zest, garlic]\n",
      "25       [sugar, lo mein noodles, salt, chicken broth, light soy sauce, flank steak, beansprouts, dried black mushrooms, pepp...\n",
      "26                     [herbs, lemon juice, fresh tomatoes, paprika, mango, stock, chile pepper, onions, red chili peppers, oil]\n",
      "27       [ground black pepper, butter, sliced mushrooms, sherry, salt, grated parmesan cheese, heavy cream, spaghetti, chicke...\n",
      "28       [green bell pepper, egg roll wrappers, sweet and sour sauce, corn starch, molasses, vegetable oil, oil, soy sauce, s...\n",
      "29                                                                     [flour tortillas, cheese, breakfast sausages, large eggs]\n",
      "                                                                  ...                                                           \n",
      "39744                [extra-virgin olive oil, oregano, potatoes, garlic cloves, pepper, salt, yellow mustard, fresh lemon juice]\n",
      "39745                                                      [quinoa, extra-virgin olive oil, fresh thyme leaves, scallion greens]\n",
      "39746    [clove, bay leaves, ginger, chopped cilantro, ground turmeric, white onion, cinnamon, cardamom pods, serrano chile, ...\n",
      "39747                                                   [water, sugar, grated lemon zest, butter, pitted date, blanched almonds]\n",
      "39748    [sea salt, pizza doughs, all-purpose flour, cornmeal, extra-virgin olive oil, shredded mozzarella cheese, kosher sal...\n",
      "39749    [kosher salt, minced onion, tortilla chips, sugar, tomato juice, cilantro leaves, avocado, lime juice, roma tomatoes...\n",
      "39750    [ground black pepper, chicken breasts, salsa, cheddar cheese, pepper jack, heavy cream, red enchilada sauce, unsalte...\n",
      "39751    [olive oil, cayenne pepper, chopped cilantro fresh, boneless chicken skinless thigh, fine sea salt, low salt chicken...\n",
      "39752                                                     [self rising flour, milk, white sugar, butter, peaches in light syrup]\n",
      "39753    [rosemary sprigs, lemon zest, garlic cloves, ground black pepper, vegetable broth, fresh basil leaves, minced garlic...\n",
      "39754    [jasmine rice, bay leaves, sticky rice, rotisserie chicken, chopped cilantro, large eggs, vegetable oil, yellow onio...\n",
      "39755    [mint leaves, cilantro leaves, ghee, tomatoes, cinnamon, oil, basmati rice, garlic paste, salt, coconut milk, clove,...\n",
      "39756        [vegetable oil, cinnamon sticks, water, all-purpose flour, piloncillo, salt, orange zest, baking powder, hot water]\n",
      "39757                                             [red bell pepper, garlic cloves, extra-virgin olive oil, feta cheese crumbles]\n",
      "39758    [milk, salt, ground cayenne pepper, ground lamb, ground cinnamon, ground black pepper, pomegranate, chopped fresh mi...\n",
      "39759    [red chili peppers, sea salt, onions, water, chilli bean sauce, caster sugar, garlic, white vinegar, chili oil, cucu...\n",
      "39760                                                   [butter, large eggs, cornmeal, baking powder, boiling water, milk, salt]\n",
      "39761    [honey, chicken breast halves, cilantro leaves, carrots, soy sauce, Sriracha, wonton wrappers, freshly ground pepper...\n",
      "39762    [curry powder, salt, chicken, water, vegetable oil, basmati rice, eggs, finely chopped onion, lemon juice, pepper, m...\n",
      "39763    [fettuccine pasta, low-fat cream cheese, garlic, nonfat evaporated milk, grated parmesan cheese, corn starch, nonfat...\n",
      "39764    [chili powder, worcestershire sauce, celery, red kidney beans, lean ground beef, stewed tomatoes, dried parsley, pep...\n",
      "39765                                                             [coconut, unsweetened coconut milk, mint leaves, plain yogurt]\n",
      "39766                    [rutabaga, ham, thick-cut bacon, potatoes, fresh parsley, salt, onions, pepper, carrots, pork sausages]\n",
      "39767    [low-fat sour cream, grated parmesan cheese, salt, dried oregano, low-fat cottage cheese, butter, onions, olive oil,...\n",
      "39768    [shredded cheddar cheese, crushed cheese crackers, cheddar cheese soup, cream of chicken soup, hot sauce, diced gree...\n",
      "39769    [light brown sugar, granulated sugar, butter, warm water, large eggs, all-purpose flour, whole wheat flour, cooking ...\n",
      "39770    [KRAFT Zesty Italian Dressing, purple onion, broccoli florets, rotini, pitted black olives, Kraft Grated Parmesan Ch...\n",
      "39771    [eggs, citrus fruit, raisins, sourdough starter, flour, hot tea, sugar, ground nutmeg, salt, ground cinnamon, milk, ...\n",
      "39772    [boneless chicken skinless thigh, minced garlic, steamed white rice, baking powder, corn starch, dark soy sauce, kos...\n",
      "39773    [green chile, jalapeno chilies, onions, ground black pepper, salt, chopped cilantro fresh, green bell pepper, garlic...\n",
      "Name: ingredients, Length: 39774, dtype: object\n",
      "0        [romaine lettuce, black olives, grape tomatoes, garlic, pepper, purple onion, seasoning, garbanzo beans, feta cheese...\n",
      "1        [plain flour, ground pepper, salt, tomatoes, ground black pepper, thyme, eggs, green tomatoes, yellow corn meal, mil...\n",
      "2        [eggs, pepper, salt, mayonaise, cooking oil, green chilies, grilled chicken breasts, garlic powder, yellow onion, so...\n",
      "3                                                                                            [water, vegetable oil, wheat, salt]\n",
      "4        [black pepper, shallots, cornflour, cayenne pepper, onions, garlic paste, milk, butter, salt, lemon juice, water, ch...\n",
      "5        [plain flour, sugar, butter, eggs, fresh ginger root, salt, ground cinnamon, milk, vanilla extract, ground ginger, p...\n",
      "6        [olive oil, salt, medium shrimp, pepper, garlic, chopped cilantro, jalapeno chilies, flat leaf parsley, skirt steak,...\n",
      "7        [sugar, pistachio nuts, white almond bark, flour, vanilla extract, olive oil, almond extract, eggs, baking powder, d...\n",
      "8        [olive oil, purple onion, fresh pineapple, pork, poblano peppers, corn tortillas, cheddar cheese, ground black peppe...\n",
      "9                                [chopped tomatoes, fresh basil, garlic, extra-virgin olive oil, kosher salt, flat leaf parsley]\n",
      "10       [pimentos, sweet pepper, dried oregano, olive oil, garlic, sharp cheddar cheese, pepper, swiss cheese, provolone che...\n",
      "11       [low sodium soy sauce, fresh ginger, dry mustard, green beans, white pepper, sesame oil, scallions, canola oil, suga...\n",
      "12       [Italian parsley leaves, walnuts, hot red pepper flakes, extra-virgin olive oil, fresh lemon juice, trout fillet, ga...\n",
      "13       [ground cinnamon, fresh cilantro, chili powder, ground coriander, kosher salt, ground black pepper, garlic, plum tom...\n",
      "14       [fresh parmesan cheese, butter, all-purpose flour, fat free less sodium chicken broth, chopped fresh chives, gruyere...\n",
      "15       [tumeric, vegetable stock, tomatoes, garam masala, naan, red lentils, red chili peppers, onions, spinach, sweet pota...\n",
      "16                                                                  [greek yogurt, lemon curd, confectioners sugar, raspberries]\n",
      "17                                                 [italian seasoning, broiler-fryer chicken, mayonaise, zesty italian dressing]\n",
      "18                                                                              [sugar, hot chili, asian fish sauce, lime juice]\n",
      "19       [soy sauce, vegetable oil, red bell pepper, chicken broth, yellow squash, garlic chili sauce, sliced green onions, b...\n",
      "20       [pork loin, roasted peanuts, chopped cilantro fresh, hoisin sauce, creamy peanut butter, chopped fresh mint, thai ba...\n",
      "21                                          [roma tomatoes, kosher salt, purple onion, jalapeno chilies, lime, chopped cilantro]\n",
      "22                                                [low-fat mayonnaise, pepper, salt, baking potatoes, eggs, spicy brown mustard]\n",
      "23       [sesame seeds, red pepper, yellow peppers, water, extra firm tofu, broccoli, soy sauce, orange bell pepper, arrowroo...\n",
      "24       [marinara sauce, flat leaf parsley, olive oil, linguine, capers, crushed red pepper flakes, olives, lemon zest, garlic]\n",
      "25       [sugar, lo mein noodles, salt, chicken broth, light soy sauce, flank steak, beansprouts, dried black mushrooms, pepp...\n",
      "26                     [herbs, lemon juice, fresh tomatoes, paprika, mango, stock, chile pepper, onions, red chili peppers, oil]\n",
      "27       [ground black pepper, butter, sliced mushrooms, sherry, salt, grated parmesan cheese, heavy cream, spaghetti, chicke...\n",
      "28       [green bell pepper, egg roll wrappers, sweet and sour sauce, corn starch, molasses, vegetable oil, oil, soy sauce, s...\n",
      "29                                                                     [flour tortillas, cheese, breakfast sausages, large eggs]\n",
      "                                                                  ...                                                           \n",
      "39744                [extra-virgin olive oil, oregano, potatoes, garlic cloves, pepper, salt, yellow mustard, fresh lemon juice]\n",
      "39745                                                      [quinoa, extra-virgin olive oil, fresh thyme leaves, scallion greens]\n",
      "39746    [clove, bay leaves, ginger, chopped cilantro, ground turmeric, white onion, cinnamon, cardamom pods, serrano chile, ...\n",
      "39747                                                   [water, sugar, grated lemon zest, butter, pitted date, blanched almonds]\n",
      "39748    [sea salt, pizza doughs, all-purpose flour, cornmeal, extra-virgin olive oil, shredded mozzarella cheese, kosher sal...\n",
      "39749    [kosher salt, minced onion, tortilla chips, sugar, tomato juice, cilantro leaves, avocado, lime juice, roma tomatoes...\n",
      "39750    [ground black pepper, chicken breasts, salsa, cheddar cheese, pepper jack, heavy cream, red enchilada sauce, unsalte...\n",
      "39751    [olive oil, cayenne pepper, chopped cilantro fresh, boneless chicken skinless thigh, fine sea salt, low salt chicken...\n",
      "39752                                                     [self rising flour, milk, white sugar, butter, peaches in light syrup]\n",
      "39753    [rosemary sprigs, lemon zest, garlic cloves, ground black pepper, vegetable broth, fresh basil leaves, minced garlic...\n",
      "39754    [jasmine rice, bay leaves, sticky rice, rotisserie chicken, chopped cilantro, large eggs, vegetable oil, yellow onio...\n",
      "39755    [mint leaves, cilantro leaves, ghee, tomatoes, cinnamon, oil, basmati rice, garlic paste, salt, coconut milk, clove,...\n",
      "39756        [vegetable oil, cinnamon sticks, water, all-purpose flour, piloncillo, salt, orange zest, baking powder, hot water]\n",
      "39757                                             [red bell pepper, garlic cloves, extra-virgin olive oil, feta cheese crumbles]\n",
      "39758    [milk, salt, ground cayenne pepper, ground lamb, ground cinnamon, ground black pepper, pomegranate, chopped fresh mi...\n",
      "39759    [red chili peppers, sea salt, onions, water, chilli bean sauce, caster sugar, garlic, white vinegar, chili oil, cucu...\n",
      "39760                                                   [butter, large eggs, cornmeal, baking powder, boiling water, milk, salt]\n",
      "39761    [honey, chicken breast halves, cilantro leaves, carrots, soy sauce, Sriracha, wonton wrappers, freshly ground pepper...\n",
      "39762    [curry powder, salt, chicken, water, vegetable oil, basmati rice, eggs, finely chopped onion, lemon juice, pepper, m...\n",
      "39763    [fettuccine pasta, low-fat cream cheese, garlic, nonfat evaporated milk, grated parmesan cheese, corn starch, nonfat...\n",
      "39764    [chili powder, worcestershire sauce, celery, red kidney beans, lean ground beef, stewed tomatoes, dried parsley, pep...\n",
      "39765                                                             [coconut, unsweetened coconut milk, mint leaves, plain yogurt]\n",
      "39766                    [rutabaga, ham, thick-cut bacon, potatoes, fresh parsley, salt, onions, pepper, carrots, pork sausages]\n",
      "39767    [low-fat sour cream, grated parmesan cheese, salt, dried oregano, low-fat cottage cheese, butter, onions, olive oil,...\n",
      "39768    [shredded cheddar cheese, crushed cheese crackers, cheddar cheese soup, cream of chicken soup, hot sauce, diced gree...\n",
      "39769    [light brown sugar, granulated sugar, butter, warm water, large eggs, all-purpose flour, whole wheat flour, cooking ...\n",
      "39770    [KRAFT Zesty Italian Dressing, purple onion, broccoli florets, rotini, pitted black olives, Kraft Grated Parmesan Ch...\n",
      "39771    [eggs, citrus fruit, raisins, sourdough starter, flour, hot tea, sugar, ground nutmeg, salt, ground cinnamon, milk, ...\n",
      "39772    [boneless chicken skinless thigh, minced garlic, steamed white rice, baking powder, corn starch, dark soy sauce, kos...\n",
      "39773    [green chile, jalapeno chilies, onions, ground black pepper, salt, chopped cilantro fresh, green bell pepper, garlic...\n",
      "Name: ingredients, Length: 39774, dtype: object\n"
     ]
    }
   ],
   "source": [
    "### TODO：将特征与目标变量分别赋值\n",
    "train_ingredients =train_content['ingredients']\n",
    "train_targets = train_content['cuisine']\n",
    "### TODO: 打印结果，检查是否正确赋值\n",
    "print(train_ingredients)\n",
    "print(train_ingredients)"
   ]
  },
  {
   "cell_type": "markdown",
   "metadata": {},
   "source": [
    "### 编程练习：基础统计运算\n",
    "你的第一个编程练习是计算有关菜系佐料的统计数据。我们已为你导入了 `numpy`，你需要使用这个库来执行必要的计算。这些统计数据对于分析模型的预测结果非常重要的。\n",
    "在下面的代码中，你要做的是：\n",
    "- 使用最频繁的佐料前10分别有哪些？\n",
    "- 意大利菜中最常见的10个佐料有哪些？"
   ]
  },
  {
   "cell_type": "code",
   "execution_count": 8,
   "metadata": {},
   "outputs": [],
   "source": [
    "## TODO: 统计佐料出现次数，并赋值到sum_ingredients字典中\n",
    "from collections import Counter\n",
    "all_ingredients=[]\n",
    "for ingredient in train_ingredients:\n",
    "    all_ingredients.extend(ingredient)\n",
    "sum_ingredients=Counter(all_ingredients)  "
   ]
  },
  {
   "cell_type": "code",
   "execution_count": 9,
   "metadata": {},
   "outputs": [
    {
     "name": "stderr",
     "output_type": "stream",
     "text": [
      "/opt/conda/lib/python3.6/site-packages/matplotlib/figure.py:418: UserWarning: matplotlib is currently using a non-GUI backend, so cannot show the figure\n",
      "  \"matplotlib is currently using a non-GUI backend, \"\n"
     ]
    },
    {
     "data": {
      "image/png": "[encoded data removed]",
      "text/plain": [
       "<matplotlib.figure.Figure at 0x7fc8c05a3208>"
      ]
     },
     "metadata": {},
     "output_type": "display_data"
    }
   ],
   "source": [
    "## 请不要修改下方代码\n",
    "# Finally, plot the 10 most used ingredients\n",
    "plt.style.use(u'ggplot')\n",
    "fig = pd.DataFrame(sum_ingredients, index=[0]).transpose()[0].sort_values(ascending=False, inplace=False)[:10].plot(kind='barh')\n",
    "fig.invert_yaxis()\n",
    "fig = fig.get_figure()\n",
    "fig.tight_layout()\n",
    "fig.show()"
   ]
  },
  {
   "cell_type": "code",
   "execution_count": 10,
   "metadata": {},
   "outputs": [
    {
     "name": "stdout",
     "output_type": "stream",
     "text": [
      "defaultdict(<class 'int'>, {'sugar': 760, 'pistachio nuts': 7, 'white almond bark': 1, 'flour': 142, 'vanilla extract': 219, 'olive oil': 3111, 'almond extract': 56, 'eggs': 627, 'baking powder': 186, 'dried cranberries': 8, 'chopped tomatoes': 37, 'fresh basil': 787, 'garlic': 1471, 'extra-virgin olive oil': 1362, 'kosher salt': 656, 'flat leaf parsley': 588, 'pimentos': 16, 'sweet pepper': 7, 'dried oregano': 626, 'sharp cheddar cheese': 9, 'pepper': 965, 'swiss cheese': 7, 'provolone cheese': 138, 'canola oil': 41, 'mushrooms': 184, 'black olives': 67, 'sausages': 58, 'Italian parsley leaves': 74, 'walnuts': 38, 'hot red pepper flakes': 76, 'fresh lemon juice': 471, 'trout fillet': 3, 'garlic cloves': 1619, 'chipotle chile': 2, 'fine sea salt': 77, 'fresh parmesan cheese': 251, 'butter': 1030, 'all-purpose flour': 918, 'fat free less sodium chicken broth': 158, 'chopped fresh chives': 68, 'gruyere cheese': 18, 'ground black pepper': 1444, 'bacon slices': 48, 'gnocchi': 41, 'fat free milk': 42, 'cooking spray': 491, 'salt': 3454, 'italian seasoning': 347, 'broiler-fryer chicken': 1, 'mayonaise': 63, 'zesty italian dressing': 11, 'marinara sauce': 222, 'linguine': 193, 'capers': 306, 'crushed red pepper flakes': 179, 'olives': 29, 'lemon zest': 98, 'sliced mushrooms': 131, 'sherry': 13, 'grated parmesan cheese': 1580, 'heavy cream': 300, 'spaghetti': 296, 'chicken broth': 245, 'cooked chicken': 33, 'yellow corn meal': 64, 'boiling water': 63, 'sea salt': 202, 'onions': 1240, 'crushed garlic': 20, 'green onions': 144, 'white sugar': 231, 'dried basil': 425, 'diced tomatoes': 429, 'bread slices': 15, 'great northern beans': 21, 'shrimp': 59, 'sage leaves': 89, 'Oscar Mayer Deli Fresh Smoked Ham': 1, 'hoagie rolls': 8, 'salami': 41, 'giardiniera': 5, 'mozzarella cheese': 396, 'pepperoni': 48, 'bay leaves': 107, 'crushed red pepper': 418, 'mussels': 38, 'basil': 174, 'black pepper': 636, 'dry white wine': 658, 'tomatoes': 601, 'finely chopped onion': 145, 'lemon': 236, 'pesto': 113, 'salmon fillets': 11, 'white wine': 176, 'pizza crust': 36, 'plum tomatoes': 340, 'part-skim mozzarella cheese': 201, 'crushed tomatoes': 241, 'fresh rosemary': 292, 'boneless pork loin': 9, 'pappardelle': 11, 'red pepper': 49, 'Italian bread': 89, 'balsamic vinegar': 348, 'sausage casings': 78, 'honey': 126, 'shredded mozzarella cheese': 413, 'roasted red peppers': 114, 'penne pasta': 146, 'spinach': 119, 'asiago': 72, 'whole wheat pasta': 13, 'sweet onion': 69, 'grape tomatoes': 98, 'chestnuts': 9, 'granulated sugar': 82, 'whole milk ricotta cheese': 47, 'coffee ice cream': 3, 'large eggs': 625, 'mascarpone': 124, 'rum': 12, 'powdered sugar': 69, 'semisweet chocolate': 46, 'chestnut flour': 1, 'starchy potatoes': 2, 'grated nutmeg': 64, 'blood orange': 5, 'freshly ground pepper': 316, 'fennel bulb': 103, 'low salt chicken broth': 138, 'dijon mustard': 99, 'corn starch': 83, 'white wine vinegar': 73, 'tomato sauce': 357, 'shredded carrots': 11, 'english muffins, split and toasted': 2, 'chopped onion': 327, 'vegetable oil cooking spray': 73, 'chopped green bell pepper': 39, 'cheddar cheese': 18, 'lasagna noodles': 196, 'ranch dressing': 5, 'evaporated milk': 13, 'fresh parsley': 631, 'fresh oregano': 209, 'cold water': 58, 'chocolate morsels': 4, 'cream sweeten whip': 3, 'instant espresso granules': 4, 'whipping cream': 162, 'kahlúa': 12, 'chocolate covered coffee beans': 1, 'unflavored gelatin': 48, 'pound cake': 7, 'pinenuts': 252, 'zucchini': 326, 'baby carrots': 15, 'fresh basil leaves': 352, 'asparagus spears': 24, 'white onion': 48, 'carrots': 379, 'frozen peas': 67, 'arborio rice': 261, 'yellow crookneck squash': 3, 'fresh leav spinach': 25, 'cheese tortellini': 53, 'cherry tomatoes': 170, 'navy beans': 8, 'pecorino romano cheese': 146, 'fresh fava bean': 12, 'italian sausage': 129, 'large garlic cloves': 293, 'pasta sheets': 9, 'water': 1052, 'Turkish bay leaves': 3, 'dried chickpeas': 1, 'celery ribs': 130, 'semolina': 14, 'warm water': 182, 'vine ripened tomatoes': 12, 'bittersweet chocolate': 42, 'fat free yogurt': 4, 'skim milk': 16, 'angel food cake': 4, 'unsweetened cocoa powder': 84, 'instant espresso': 7, 'garlic salt': 61, 'tomato paste': 376, 'veal cutlets': 18, 'broccoli rabe': 47, 'whole milk': 157, 'parmigiano reggiano cheese': 306, 'dry bread crumbs': 115, 'fontina': 27, 'unsalted butter': 564, 'pasta sauce': 246, 'olive oil flavored cooking spray': 29, 'frozen chopped spinach': 131, 'large egg whites': 138, 'part-skim ricotta cheese': 111, 'manicotti shells': 18, 'fettucine': 136, 'parmesan cheese': 474, 'large shrimp': 77, 'chicken bouillon': 10, 'cream of tartar': 9, 'orange liqueur': 15, 'heavy whipping cream': 73, 'semi-sweet chocolate morsels': 21, 'cake flour': 24, 'confectioners sugar': 94, 'ground cinnamon': 85, 'ricotta cheese': 333, 'cream cheese': 105, 'dried porcini mushrooms': 81, 'chopped fresh thyme': 151, 'beef rib short': 5, 'dry red wine': 131, 'hot water': 85, 'fat free less sodium beef broth': 7, 'cremini mushrooms': 67, 'pitted kalamata olives': 94, 'cauliflower': 34, 'whole peeled tomatoes': 60, 'swiss chard': 63, 'banana squash': 1, 'vegetable broth': 81, 'bay leaf': 130, 'cannellini beans': 161, 'boneless skinless chicken breast halves': 182, 'light sour cream': 5, 'fava beans': 13, 'finely chopped fresh parsley': 33, 'fresh tarragon': 33, 'grated lemon zest': 142, 'chopped almonds': 12, 'broccoli': 64, 'potatoes': 59, 'self rising flour': 1, 'eggplant': 204, 'chicken': 84, 'pitas': 5, 'goat cheese': 92, 'reduced fat milk': 29, 'smoked trout': 1, 'fresh dill': 16, 'asparagus': 123, 'oil': 92, 'ricotta salata': 22, 'pecorino cheese': 52, 'grana padano': 7, 'pasta': 255, 'cracked black pepper': 117, 'green bell pepper': 163, 'vidalia onion': 19, 'smoked gouda': 14, 'baby spinach leaves': 39, 'shredded sharp cheddar cheese': 17, 'small red potato': 13, 'Bertolli® Classico Olive Oil': 16, 'bacon, crisp-cooked and crumbled': 2, 'bertolli vineyard premium collect marinara with burgundi wine sauc': 5, 'bread crumb fresh': 74, '(    oz.) tomato sauce': 7, 'ground veal': 35, 'italian seasoning mix': 1, 'beef': 22, 'fat skimmed chicken broth': 28, 'solid pack pumpkin': 4, 'ground nutmeg': 127, 'white rice': 11, 'ground pepper': 77, 'fresh thyme leaves': 53, 'pistachios': 10, 'dried cherry': 6, 'prosciutto': 256, 'romano cheese': 89, 'parsley leaves': 23, 'shallots': 316, 'fresh raspberries': 14, 'dry vermouth': 18, 'canned low sodium chicken broth': 46, 'chicken livers': 14, 'raisins': 39, 'seasoned bread crumbs': 71, 'minced garlic': 334, 'half & half': 89, 'ground beef': 237, 'jack cheese': 9, 'vegetables': 29, 'lemon juice': 216, 'ricotta': 95, 'yellow onion': 153, 'reduced sodium chicken broth': 36, 'chopped fresh mint': 54, 'purple onion': 350, 'low sodium chicken broth': 78, 'polenta': 132, 'bell pepper': 38, 'olive oil cooking spray': 13, 'bacon': 124, 'egg yolks': 82, 'duck breast halves': 1, 'fennel seeds': 114, 'roma tomatoes': 44, 'pesto sauce': 26, 'arugula': 125, 'summer squash': 9, 'red wine vinegar': 227, 'ciabatta': 21, 'juice': 72, 'fresh herbs': 14, 'grated lemon peel': 89, 'dough': 46, 'coarse sea salt': 17, 'rosemary leaves': 10, 'red pepper flakes': 206, 'brie cheese': 14, 'cheese ravioli': 18, 'Italian seasoned breadcrumbs': 23, 'cheese': 127, 'parsley': 95, 'fat-free cottage cheese': 11, 'oven-ready lasagna noodles': 43, 'margarine': 38, 'radicchio': 40, 'garbanzo beans': 18, 'orzo pasta': 16, 'rubbed sage': 17, 'dried rosemary': 96, 'canned beef broth': 4, 'kale leaves': 7, 'chicken noodle soup': 1, 'italian style rolls': 1, 'genoa salami': 22, 'oregano': 114, 'boiled ham': 1, 'capicola': 4, 'iceberg lettuce': 6, 'jalapeno chilies': 20, 'diced celery': 15, 'italian salad dressing mix': 7, 'chopped cilantro fresh': 25, 'cider vinegar': 14, 'red bell pepper': 354, 'sliced green onions': 40, 'barbecue sauce': 9, 'prepared pizza crust': 2, 'boneless skinless chicken breasts': 132, 'Sargento® Traditional Cut Shredded Mozzarella Cheese': 1, 'vegetable oil': 253, 'basil pesto sauce': 33, 'aioli': 3, 'cooked shrimp': 11, 'mozzarella balls': 4, 'sun-dried tomatoes': 118, 'milk': 277, 'condensed cream of mushroom soup': 16, 'fettuccine pasta': 24, 'frozen spinach': 24, 'lasagne': 6, 'passata': 3, 'fat free cream cheese': 8, 'french bread': 54, 'non-fat sour cream': 14, 'reduced fat swiss cheese': 3, 'fat-free mayonnaise': 8, 'roasted garlic': 7, 'seasoning': 12, 'kale': 58, 'sundried tomato paste': 4, 'dried thyme': 145, 'porcini': 7, 'fresh thyme': 62, 'sourdough loaf': 4, 'crust': 3, 'duck fat': 1, 'squabs': 1, 'confit': 2, 'aged gouda': 1, 'soppressata': 16, 'artichokes': 44, 'anchovy fillets': 124, 'lemon slices': 12, 'chicken cutlets': 23, 'saffron threads': 28, 'orzo': 51, 'veal chops': 4, 'oil cured olives': 3, 'pasta rotel': 2, 'pasta water': 10, 'cooking wine': 3, 'crusty bread': 10, 'fresh tomatoes': 32, 'uncooked rigatoni': 6, 'grating cheese': 6, 'vegetable stock': 29, 'freshly grated parmesan': 87, 'florets': 15, 'sliced almonds': 37, 'thyme sprigs': 45, 'egg whites': 95, 'greek yogurt': 6, 'penne': 99, 'fish fillets': 10, 'russet potatoes': 40, 'crumbled gorgonzola': 29, 'fontina cheese': 84, 'spinach leaves': 25, 'orange': 38, 'lamb shanks': 11, 'clove': 19, 'rosemary sprigs': 50, 'italian eggplant': 7, 'Sicilian olives': 7, 'mint sprigs': 28, 'peasant bread': 7, 'garlic powder': 252, 'Kraft Grated Parmesan Cheese': 10, 'peas': 42, 'Oscar Mayer Bacon': 1, 'Philadelphia Cream Cheese': 9, 'garnish': 3, 'dried navy beans': 5, 'celery': 155, 'diced onions': 42, 'wheat berries': 4, 'parsley sprigs': 38, 'thyme': 51, 'polenta prepar': 5, 'chicken breast halves': 35, 'dry sherry': 22, 'cocoa powder': 9, 'dried parsley': 90, 'chopped garlic': 69, 'baking soda': 68, 'coarse salt': 128, 'rigatoni': 60, 'nutmeg': 40, 'artichoke hearts': 99, 'pancetta': 153, 'parsnips': 7, 'whole wheat fettuccine': 4, 'ground sirloin': 20, 'red wine': 99, 'fresh marjoram': 29, 'castellane': 2, 'hot Italian sausages': 39, 'jumbo pasta shells': 37, 'fresh spinach': 87, 'chicken breasts': 93, 'gluten free blend': 1, 'paprika': 76, 'salt and ground black pepper': 66, 'bone in skinless chicken thigh': 1, 'figs': 10, 'egg substitute': 26, 'hot sauce': 20, 'ham': 42, 'balsamic vinaigrette': 6, 'pitted olives': 15, 'fresh chives': 24, 'white mushrooms': 20, 'haricots verts': 4, 'fresh peas': 16, 'bow-tie pasta': 86, 'asparagus tips': 3, 'green beans': 70, 'low-fat cottage cheese': 14, 'whole wheat lasagna noodles': 8, 'shredded parmesan cheese': 38, 'apricots': 5, 'grappa': 9, 'all purpose unbleached flour': 68, 'dry yeast': 71, 'worcestershire sauce': 54, 'amaretti': 6, 'frozen strawberries': 1, 'strawberries': 48, 'cooked ham': 9, 'Alfredo sauce': 43, 'chopped fresh sage': 91, 'cheese slices': 11, 'bread': 51, 'morel': 2, 'leeks': 106, '1% low-fat cottage cheese': 10, 'feta cheese crumbles': 68, 'pork belly': 2, 'fresh sage': 29, 'pork loin': 3, 'sliced black olives': 49, 'medium shrimp': 70, 'red chili peppers': 22, 'parmigiano-reggiano cheese': 53, 'fresh mint': 53, 'baguette': 119, 'chicken legs': 7, 'baby spinach': 117, 'white beans': 38, 'ground pork': 72, 'romana': 1, 'fresh mushrooms': 117, 'crimini mushrooms': 26, 'navel oranges': 10, 'kalamata': 62, 'sea scallops': 31, 'ladyfingers': 40, 'reduced fat cream cheese': 3, 'whipped topping': 12, 'wine': 15, 'frozen broccoli': 5, 'nonfat ricotta cheese': 32, 'shells': 8, 'reduced-fat cheese': 1, 'cornflake cereal': 2, 'beef brisket': 2, 'dry pasta': 8, 'white bread': 35, 'pork': 10, 'sweet italian sausage': 72, 'prosecco': 10, 'bread dough': 16, 'baby lima beans': 3, 'whipped cream': 15, 'hot cocoa mix': 2, 'brewed coffee': 18, 'abbamele': 1, 'wild mushrooms': 30, 'chopped walnuts': 46, 'fregola': 4, 'savoy cabbage': 10, 'mushroom caps': 17, 'pinot grigio': 3, 'liquid egg substitute': 1, 'chocolate candy bars': 5, 'cooked rice': 5, 'bread crumbs': 103, 'banana peppers': 5, 'toasted walnuts': 7, 'dark rum': 22, 'dried fig': 11, 'chopped parsley': 99, 'ground white pepper': 33, \"soft goat's cheese\": 10, 'truffle oil': 17, 'hazelnuts': 53, 'veal scallopini': 2, 'elbow macaroni': 19, 'bread flour': 77, 'bread yeast': 1, 'red potato': 26, 'vegan parmesan cheese': 4, 'ahi': 1, 'golden brown sugar': 14, 'anjou pears': 3, 'granny smith apples': 6, 'crystallized ginger': 10, 'ice water': 7, 'vegetable shortening': 5, 'chinese five-spice powder': 1, 'whole wheat flour': 21, 'large egg yolks': 142, 'lean ground beef': 135, 'sausage links': 32, 'pork chops': 8, 'rosemary': 57, 'nectarines': 5, 'sweet cherries': 12, 'orange zest': 28, 'lavender buds': 1, 'apricot halves': 4, 'diced tomatoes in juice': 7, 'scallions': 61, 'italian salad dressing': 41, 'short pasta': 7, 'lemon wedge': 58, 'porterhouse steaks': 4, '1% low-fat milk': 68, 'golden raisins': 46, 'cinnamon sticks': 18, 'broccolini': 3, 'salted butter': 11, 'chicken stock': 142, 'coffee granules': 12, 'lemon rind': 34, 'baby portobello mushrooms': 10, 'broccoli florets': 64, 'orecchiette': 41, 'melted butter': 24, 'pizza shells': 3, 'frozen mixed thawed vegetables,': 2, 'ragu old world style pasta sauc': 11, 'loosely packed fresh basil leaves': 21, 'whole wheat spaghetti': 22, 'butternut squash': 62, 'wonton wrappers': 17, 'meat': 15, 'pear tomatoes': 6, 'gaeta olives': 5, 'yukon gold potatoes': 39, 'turbot': 2, 'ground lamb': 6, 'refrigerated pizza dough': 31, 'potato gnocchi': 20, 'cream': 27, 'angel hair': 60, 'lime juice': 6, 'gelato': 4, 'cherry preserves': 2, 'amaretto liqueur': 4, 'cherries': 14, 'instant espresso powder': 22, 'nuts': 3, 'brown sugar': 67, 'pie shell': 2, 'marsala wine': 105, 'basil leaves': 153, 'cake': 7, 'crabmeat': 11, 'chopped fresh herbs': 8, 'button mushrooms': 35, 'escarole': 47, 'chopped pecans': 28, 'chocolate bars': 2, 'coffee liqueur': 11, 'flat anchovy': 5, 'italian loaf': 4, 'salad dressing': 23, 'pitted black olives': 24, 'rotini': 46, 'frozen mixed vegetables': 4, 'canned tomatoes': 26, 'feta cheese': 36, 'anise seed': 13, 'top sirloin': 1, 'candy': 3, 'angel food cake mix': 2, 'buttercream frosting': 1, 'sour cream': 71, 'shredded cheddar cheese': 42, 'cottage cheese': 44, 'noodles': 38, 'lime': 5, 'watermelon': 5, 'risotto': 11, 'ice cubes': 8, 'peeled tomatoes': 32, 'cooked vermicelli': 5, 'buns': 1, 'apple cider vinegar': 7, 'ground red pepper': 34, 'yellow bell pepper': 85, 'active dry yeast': 128, 'baking potatoes': 34, 'grated romano cheese': 19, 'quinoa': 8, 'littleneck clams': 26, 'whole wheat bread': 8, 'cream cheese, soften': 40, 'salad seasoning mix': 4, 'cucumber': 25, 'pappardelle pasta': 6, 'fresh mozzarella': 95, 'tuna steaks': 16, 'shredded zucchini': 4, 'dried pasta': 13, 'berries': 5, 'clams': 50, 'ground round': 25, 'fettuccine, cook and drain': 4, 'tomato purée': 47, 'chopped celery': 103, 'ditalini pasta': 15, 'lobster': 11, 'almonds': 35, 'anise': 13, 'anise extract': 12, 'brandy': 25, 'boneless chicken breast': 19, 'buffalo sauce': 2, 'blue cheese dressing': 3, 'cannelloni shells': 2, 'butter cooking spray': 3, 'light alfredo sauce': 7, 'rice': 12, 'cream of chicken soup': 9, 'chees fresh mozzarella': 72, 'shrimp tails': 2, 'bay scallops': 12, 'lump crab meat': 17, 'fish stock': 11, 'capellini': 8, 'veal': 17, 'beef stock': 24, 'chard': 3, 'grated Gruyère cheese': 5, 'panko': 25, 'chickpeas': 37, 'white cornmeal': 4, 'red bell pepper, sliced': 2, 'herbs': 20, 'chicken thighs': 32, 'green bell pepper, slice': 13, 'vanilla': 28, 'liqueur': 10, 'aged balsamic vinegar': 8, 'limoncello': 6, 'golden beets': 4, 'pizza doughs': 103, 'black cod': 2, 'green cabbage': 12, 'cavolo nero': 4, 'winter squash': 1, 'thin pizza crust': 9, 'toasted pine nuts': 30, 'grated parmesan romano': 2, 'cumin seed': 4, 'cilantro leaves': 7, 'seasoning salt': 15, 'mixed greens': 16, 'turkey breast cutlets': 9, 'cod fillets': 8, 'barilla': 4, 'linguini': 9, 'perciatelli': 7, 'crumbled blue cheese': 16, 'black mission figs': 4, 'swordfish steaks': 11, 'anchovy paste': 47, 'chuck': 8, 'tomatoes with juice': 30, 'store bought low sodium chicken stock': 2, 'fresh lavender': 1, 'grated orange': 31, 'vanilla wafers': 3, 'amaretto': 19, 'toasted almonds': 6, 'light corn syrup': 8, 'focaccia': 10, 'oyster mushrooms': 6, 'shiitake mushroom caps': 16, 'onion powder': 39, 'sourdough': 7, 'orange bell pepper': 27, 'nonfat cottage cheese': 6, 'stewed tomatoes': 37, 'raspberries': 25, 'vanilla beans': 26, 'Frangelico': 9, 'vegetable oil spray': 22, 'table salt': 21, 'white peppercorns': 2, 'herb vinegar': 3, 'reduced fat sharp cheddar cheese': 8, 'deli ham': 4, 'ground turkey': 48, 'hot dogs': 2, 'italian style stewed tomatoes': 15, 'veal stock': 7, 'portabello mushroom': 41, 'rocket leaves': 35, 'country bread': 26, 'bottled balsamic vinaigrette': 1, 'scallops': 12, 'italian tomatoes': 16, 'peeled shrimp': 3, 'whole wheat pizza crust': 3, 'dried mixed herbs': 3, 'whole wheat pastry flour': 6, 'nonstick spray': 7, 'low-fat sour cream': 8, 'day old bread': 2, 'champagne vinegar': 9, 'pizza sauce': 71, 'red vermouth': 5, 'low sodium chicken stock': 6, 'peppercorns': 3, 'turkey stock': 3, 'cooked turkey': 6, 'green olives': 52, 'spaghettini': 23, 'minced onion': 41, 'beef broth': 62, 'dried mint flakes': 3, 'ravioli': 16, 'meat loaf mix': 1, 'rub': 2, 'clam juice': 26, 'bottled clam juice': 15, 'cayenne pepper': 50, 'pears': 19, 'gorgonzola': 27, 'duck': 2, 'pure vanilla extract': 22, 'panettone': 4, 'sambuca': 4, 'light brown sugar': 15, 'fat free frozen top whip': 5, 'frozen bread dough': 9, 'whole wheat breadcrumbs': 10, 'ground chuck': 16, 'bows': 3, 'sauce': 53, 'ground oregano': 4, 'lean ground turkey': 2, 'milk chocolate': 11, 'hazelnut butter': 4, 'fig jam': 2, 'crackers': 7, 'sun-dried tomatoes in oil': 28, 'dark chocolate': 7, 'vanilla ice cream': 17, 'chives': 31, 'radishes': 13, 'lettuce': 6, 'grilled chicken': 2, 'flatbread': 4, 'fresh parsley leaves': 56, 'lemon extract': 7, 'salad greens': 11, 'brown rice': 6, 'tortellini': 19, 'reduced fat alfredo sauce': 4, 'fresh asparagus': 24, 'round steaks': 5, 'chili powder': 26, 'ground cumin': 30, 'rolls': 21, 'prego traditional italian sauce': 4, 'brown hash potato': 5, 'nonfat milk': 7, 'frozen cheese ravioli': 6, 'mild Italian sausage': 17, 'sandwich rolls': 3, 'orange juice concentrate': 5, 'rotelle': 3, 'sweet italian sausag links, cut into': 2, 'idaho potatoes': 4, 'popcorn': 1, 'grated orange peel': 26, 'french fried onions': 1, 'turbinado': 7, 'cooked chicken breasts': 16, 'farro': 14, 'flour tortillas': 11, 'english cucumber': 7, 'minced peperoncini': 2, 'teleme': 2, 'brine cured green olives': 4, 'black forest ham': 1, 'frozen whole kernel corn': 5, 'sweet potatoes': 15, 'applewood smoked bacon': 7, 'panko breadcrumbs': 24, 'coarse kosher salt': 9, 'cornmeal': 72, 'dried sage': 28, 'dri leav thyme': 6, 'low sodium beef broth': 3, 'cabbage': 12, 'fresh shiitake mushrooms': 15, 'rabbit': 8, 'herbes de provence': 12, 'dressing': 7, 'chicken fingers': 3, 'reduced-fat sour cream': 13, 'dried fettuccine': 14, 'white pepper': 22, 'albacore tuna in water': 5, 'light mayonnaise': 7, 'turkey tenderloins': 4, 'almond flour': 8, 'raw almond': 3, 'fresh orange juice': 32, 'cranberries': 3, 'orange marmalade': 6, 'fresh lemon': 4, 'condensed chicken broth': 1, 'oil packed anchovy fillets': 3, 'boneless chicken skinless thigh': 20, 'sugar pea': 16, 'nonfat yogurt': 4, 'roast red peppers, drain': 24, 'french baguette': 25, 'ripe olives': 26, 'honey glazed ham': 2, 'chiles': 9, 'spring onions': 3, 'candied orange peel': 13, 'lard': 5, 'cinnamon': 23, 'semolina flour': 32, 'onion salt': 2, 'beef demi-glace': 1, 'veal shanks': 21, 'orange peel': 7, 'lemon peel': 11, 'plain yogurt': 7, 'Quinoa Flour': 1, 'spelt flour': 2, 'plums': 14, 'heirloom tomatoes': 21, 'fresh lime juice': 25, 'artichok heart marin': 33, 'bucatini': 16, 'processed cheese': 5, 'egg noodles, cooked and drained': 3, 'tapioca flour': 1, 'lasagna noodles, cooked and drained': 26, 'firm tofu': 9, 'sherry vinegar': 27, 'country style bread': 7, 'teardrop tomatoes': 2, 'ground sausage': 5, 'pita pockets': 1, 'orange juice': 19, 'chili pepper': 5, 'currant': 7, 'small capers, rins and drain': 2, 'filet': 4, 'lettuce leaves': 8, 'vodka': 27, 'stolichnaya': 1, 'romaine lettuce': 33, 'croutons': 18, 'pepperocini': 2, 'cherry peppers': 3, 'dandelion': 1, 'beans': 6, 'hot pepper sauce': 7, 'shredded Monterey Jack cheese': 13, 'cane sugar': 1, 'mixed nuts': 1, 'meatballs': 17, 'plain dry bread crumb': 11, 'spanish onion': 9, 'cuban peppers': 3, 'green tomatoes': 2, 'sesame seeds': 13, 'boneless beef chuck roast': 3, 'hard-boiled egg': 6, 'pork tenderloin': 24, 'bulk italian sausag': 21, 'beef bouillon granules': 3, 'prebaked pizza crusts': 13, 'buttermilk': 32, 'flaked coconut': 5, 'lower sodium chicken broth': 20, 'carnaroli rice': 13, 'fresh oregano leaves': 24, 'cavatappi': 9, 'cooking oil': 24, 'cayenne': 8, 'ground cloves': 30, 'corn syrup': 4, 'small pasta': 7, 'ground fennel': 7, 'low-fat buttermilk': 9, 'ice': 7, 'chicken bouillon granules': 6, 'poultry seasoning': 10, 'roast': 3, 'fusilli': 43, 'Italian herbs': 7, 'diced yellow onion': 1, 'manicotti pasta': 4, 'parsley flakes': 17, 'vinaigrette': 7, 'bread ciabatta': 16, 'kidney beans': 12, 'creole seasoning': 4, 'prepared pasta sauce': 5, 'small curd cottage cheese': 14, 'white sandwich bread': 9, 'mini chocolate chips': 5, 'lean beef': 2, 'breadstick': 13, 'pickled okra': 2, 'fronds': 15, 'thick-cut bacon': 11, 'boiling potatoes': 13, 'ditalini': 11, 'cranberry beans': 4, 'center cut bacon': 7, 'roasting chickens': 8, 'fleur de sel': 6, 'Margherita Pepperoni': 1, 'soft-shell clams': 1, 'liquid': 5, 'fresh chevre': 4, 'pork sausages': 14, 'dried minced onion': 5, 'msg': 2, 'pork stew meat': 1, 'beef stew meat': 3, 'ziti': 26, 'Balsamico Bianco': 2, 'ground mustard': 1, 'chocolate': 5, 'orange soda': 1, 'compote': 3, 'low-fat plain yogurt': 5, 'snow peas': 8, 'baby eggplants': 2, 'mint leaves': 19, 'lima beans': 4, 'crème fraîche': 19, 'wagon wheels': 1, 'basmati rice': 2, 'marrons': 1, 'cocoa': 6, 'fresh blueberries': 5, 'sweetened condensed milk': 9, 'soy milk': 2, 'unsalted margarine': 2, 'apple juice': 6, 'yellow corn': 1, 'shell-on shrimp': 3, 'KNUDSEN 2% Milkfat Low Fat Cottage Cheese': 1, 'KRAFT Reduced Fat Shredded Mozzarella Cheese': 1, 'soy sauce': 15, 'Emmenthal': 2, 'blue cheese': 7, 'ground coriander': 11, 'sourdough bread': 22, 'collard greens': 5, 'marjoram': 32, 'low sodium vegetable broth': 3, 'medium egg noodles': 8, 'brine-cured black olives': 10, 'havarti cheese': 2, 'shell pasta': 6, 'blackberries': 15, 'syrup': 4, 'crème de cassis': 3, 'low-fat ricotta cheese': 9, 'pumpkin': 9, 'caponata': 1, 'store bought low sodium chicken broth': 2, 'cutlet': 9, 'sage': 22, 'pepper flakes': 12, 'bocconcini': 17, 'fillet red snapper': 7, 'white vinegar': 22, 'part-skim mozzarella': 22, 'frozen chopped spinach, thawed and squeezed dry': 15, 'fresh bay leaves': 3, 'peperoncino': 6, \"I Can't Believe It's Not Butter!® Spread\": 6, 'linguine, cook and drain': 2, 'Bertolli® Alfredo Sauce': 8, 'egg noodles': 13, 'sprinkles': 13, 'strozzapreti': 3, 'Kraft Sun Dried Tomato Vinaigrette': 1, 'portobello caps': 4, 'Italian turkey sausage': 47, 'maple syrup': 6, 'butter beans': 2, 'green lentil': 3, 'broccoli stems': 1, 'shredded cabbage': 4, 'yukon gold': 1, 'pepperoni turkei': 7, 'beets': 11, 'bartlett pears': 3, 'powdered gelatin': 2, 'whole almonds': 3, 'ground ginger': 15, 'whole wheat submarine loaves': 1, 'low fat reduced sodium pasta sauce': 1, 'gluten-free pasta': 1, 'toasted slivered almonds': 4, 'lean minced beef': 1, 'garden peas': 6, 'chillies': 2, 'minced pork': 1, 'truffles': 2, 'salt pork': 2, 'flank steak': 12, 'pasta shells': 26, 'sliced carrots': 24, 'maldon sea salt': 3, 'coconut oil': 3, 'granulated garlic': 6, 'calabrese sausage': 1, 'varnish clams': 9, 'creole style seasoning': 2, 'turkey sausage': 5, 'almond paste': 13, 'loin pork roast': 1, 'evaporated skim milk': 4, 'butter-margarine blend': 5, 'parmagiano reggiano': 13, 'fennel': 27, 'Dungeness crabs': 5, 'basil dried leaves': 27, 'low-sodium fat-free chicken broth': 4, 'penne rigate': 17, 'smoked turkey': 5, 'pasta shell small': 6, '(   oz.) tomato paste': 4, 'dry lasagna': 4, 'frozen corn kernels': 7, 'lasagna sheets': 3, 'chili flakes': 17, 'vin santo': 7, 'peaches': 18, 'orange rind': 14, 'seedless green grape': 2, 'orange blossom honey': 3, 'tomato basil sauce': 22, 'shelled pistachios': 3, 'cilantro pesto': 1, 'instant coffee': 2, 'firmly packed brown sugar': 2, 'caciocavallo': 2, 'red bartlett pears': 1, 'vinegar': 8, 'almond meal': 5, 'ground Italian sausage': 4, 'lamb shoulder chops': 1, 'less sodium beef broth': 5, 'mild cheddar cheese': 1, 'low-fat spaghetti sauce': 7, 'green peas': 39, 'globe eggplant': 4, 'garlic puree': 3, 'mint': 12, 'aleppo pepper': 2, 'seedless watermelon': 2, 'peach slices': 3, 'light cream': 12, 'cantaloupe': 9, 'red lentils': 4, 'yams': 2, 'French lentils': 3, 'pizza crust mix': 3, 'yellow squash': 37, 'stock': 7, 'white arborio rice': 2, 'miniature chocolate chips': 2, 'unsalted roasted pistachios': 1, 'onion flakes': 5, 'tagliatelle': 18, 'lime zest': 2, 'breakfast sausages': 3, 'beaten eggs': 3, 'diced red onions': 4, 'brown lentils': 2, 'shredded mild cheddar cheese': 1, 'pearl barley': 13, 'blueberries': 9, 'biscuits': 8, 'raspberry liqueur': 1, 'frozen mixed berries': 5, 'sponge cake': 2, 'chocolate shavings': 9, 'candied fruit': 6, 'veggies': 4, 'ham steak': 1, 'allspice berries': 1, 'crusty sandwich rolls': 1, 'salsa verde': 4, 'black peppercorns': 27, 'chili oil': 1, 'grissini': 3, 'borlotti beans': 5, 'white kidney beans': 7, 'baby arugula': 35, 'reduced fat ricotta cheese': 2, 'stevia': 1, 'candy sprinkles': 3, 'macaroni': 14, 'avocado': 25, 'fat skimmed reduced sodium chicken broth': 2, 'turkey breast': 8, 'condensed reduced fat reduced sodium cream of mushroom soup': 1, 'beef shank': 1, 'tortilla chips': 2, 'pepperoni slices': 31, 'japanese eggplants': 11, 'fresh mozzarella balls': 5, 'sanding sugar': 1, 'squid': 32, 'ground allspice': 7, 'crumbled goat cheese': 4, 'lamb shoulder': 2, 'lentils': 9, 'ground cayenne pepper': 7, 'mace': 2, 'pork shoulder': 4, 'cream cheese with chives and onion': 2, 'dried pappardelle': 7, 'lime wedges': 5, 'chopped cilantro': 9, '2% reduced-fat milk': 11, 'slivered almonds': 47, 'golden caster sugar': 2, 'yeast': 11, 'savoiardi': 2, 'skinless chicken breasts': 2, 'olive oil spray': 7, 'whipped butter': 1, 'mortadella': 5, 'chocolate cake mix': 1, 'frozen whipped topping': 1, 'chocolate instant pudding': 3, 'chicken sausage': 7, 'Swanson Chicken Broth': 7, 'long grain white rice': 6, 'chèvre': 3, 'fresh onion': 3, 'sweet corn': 1, 'snappers': 1, 'Italian cheese blend': 7, 'egg roll wrappers': 5, 'string cheese': 3, 'prawns': 4, 'risotto rice': 9, 'smoked salmon': 14, 'whole grain mustard': 4, 'allspice': 4, 'ragu': 7, 'curds': 2, 'gremolata': 4, 'minced beef': 3, 'ragu cheesi classic alfredo sauc': 2, 'Barilla Oven-Ready Lasagne': 2, 'octopuses': 5, 'California bay leaves': 15, 'brewed espresso': 13, 'coffee low-fat frozen yogurt': 1, 'espresso beans': 3, 'chanterelle': 9, 'sweetened coconut flakes': 3, 'dried pineapple': 1, 'coconut extract': 3, 'pineapple juice': 3, 'boneless chop pork': 7, 'treviso': 1, 'light butter': 6, 'boneless chicken': 1, 'reduced fat monterey jack cheese': 1, 'fat-free chicken broth': 9, 'white rice flour': 1, 'sweet rice flour': 1, 'Chianti': 10, 'boar': 3, 'chicken breast tenders': 8, 'pearl onions': 10, 'garlic bulb': 4, 'uncooked vermicelli': 2, 'cognac': 10, 'crumbles': 1, 'coffee': 18, 'boiling onions': 5, 'taleggio': 3, 'beef roast': 4, 'rapid rise yeast': 4, 'browning': 1, 'leaves': 3, 'prunes': 8, 'flour for dusting': 21, 'broth': 12, 'dried currants': 19, 'black cod fillets': 1, 'oysters': 3, 'mostaccioli': 3, 'guanciale': 19, 'grated pecorino': 7, 'roquefort cheese': 3, 'wine vinegar': 11, 'soft shelled crabs': 1, 'rump roast': 5, 'beef bouillon': 5, 'low sodium soy sauce': 5, 'corn oil': 8, 'double crust pie': 4, 'pastry': 7, 'cooked rigatoni': 9, 'frozen vegetables': 1, 'adobo sauce': 1, 'quick cooking brown rice': 1, 'vegetable juice': 1, 'Wish-Bone Italian Dressing': 7, \"hellmann' or best food real mayonnais\": 8, 'green chilies': 3, 'instant yeast': 15, 'fresh yeast': 2, 'fish': 6, 'italian plum tomatoes': 26, 'coffee beans': 5, 'uncooked ziti': 5, 'nonfat evaporated milk': 6, 'chuck roast': 6, 'prepared lasagne': 11, 'beef deli roast slice thinli': 2, 'sub buns': 4, 'won ton wrappers': 10, 'carbonated water': 4, 'lambrusco': 1, 'spaghetti sauce seasoning mix': 3, 'chicken-apple sausage': 1, 'chicken breast tenderloins': 1, 'wheat flour': 4, 'Tabasco Pepper Sauce': 3, 'baby kale': 1, 'spaghetti squash': 16, 'curly endive': 1, 'red beans': 5, 'whole milk yoghurt': 2, 'shredded reduced fat reduced sodium swiss cheese': 1, 'yellow peppers': 7, 'tuna packed in water': 4, 'roasted hazelnuts': 10, 'candied lemon peel': 5, 'candied citron peel': 1, 'curry powder': 8, 'spaghetti, cook and drain': 7, 'italian seasoned dry bread crumbs': 10, 'shredded Italian cheese': 7, 'non stick spray': 2, 'crusty loaf': 1, 'green pepper': 39, 'Johnsonville Mild Italian Sausage Links': 4, 'diced tomatoes with garlic and onion': 2, 'fresh angel hair': 4, 'rib': 18, 'small white beans': 4, 'baked ham': 3, 'tuna packed in olive oil': 16, 'Ciabatta rolls': 1, 'Dutch-processed cocoa powder': 5, 'tuna': 6, 'halibut fillets': 9, 'dried red chile peppers': 4, 'picholine olives': 3, 'cavatelli': 9, 'whole grain dijon mustard': 2, 'white chocolate': 15, 'and fat free half half': 13, 'edamame': 6, \"I Can't Believe It's Not Butter!® All Purpose Sticks\": 1, 'organic vegetable broth': 18, 'squash': 7, 'sandwiches': 1, 'candied cherries': 2, 'sweet chocolate': 1, 'corn kernel whole': 1, 'canned chicken broth': 3, 'egg pasta': 1, 'poppy seeds': 9, 'reduced sodium beef broth': 1, 'salad': 9, 'rotisserie chicken': 4, 'rosewater': 1, 'lean ground meat': 4, 'bosc pears': 7, 'greens': 12, 'dried tart cherries': 6, 'seedless red grapes': 11, 'tallow': 1, 'Kahlua Liqueur': 1, 'fat': 13, 'thin spaghetti': 5, 'white button mushrooms': 3, 'apricot jam': 2, 'Amaretti Cookies': 10, 'vine tomatoes': 3, 'cream style corn': 2, 'links': 2, 'extra lean ground beef': 9, 'accent': 1, 'grapeseed oil': 5, 'frisee': 4, 'duck breasts': 2, 'rich chicken stock': 2, 'gyoza skins': 1, 'crumbled ricotta salata cheese': 10, 'recipe crumbles': 1, 'cooked pumpkin': 1, 'hand': 4, 'bass fillets': 4, 'extra large eggs': 8, 'cake yeast': 2, 'garlic oil': 4, 'walnut halves': 5, 'fresh cilantro': 6, 'flaked': 2, 'Estancia Pinot Noir': 1, 'frozen sweet corn': 1, 'clams, well scrub': 3, 'espresso': 9, 'dark brown sugar': 5, 'caramel sauce': 1, 'Scotch whisky': 1, 'brussels sprouts': 7, 'earl grey tea leaves': 1, 'merlot': 3, 'graham cracker crumbs': 2, 'bone-in chicken breast halves': 3, 'light coconut milk': 1, 'lime rind': 3, 'steel-cut oats': 1, 'plain flour': 5, 'ground turkey breast': 12, 'beefsteak tomatoes': 11, 'whole wheat french bread': 2, 'Italian cheese': 11, 'napa cabbage': 3, 'field lettuce': 3, 'bread, cut into italian loaf': 8, 'saltines': 4, 'ground almonds': 5, 'ketchup': 14, 'dinner rolls': 3, 'reduced fat provolone cheese': 1, 'mesclun': 2, 'pure olive oil': 1, 'ficelle': 2, 'Niçoise olives': 2, 'blanched almonds': 17, 'serrano chile': 4, 'sausage meat': 5, 'reduced fat cheddar cheese': 4, 'frozen corn': 1, 'wonton skins': 1, 'purple grapes': 1, 'juniper berries': 5, 'boneless pork shoulder roast': 2, 'meyer lemon': 2, 'apples': 6, 'ground thyme': 2, 'shortening': 21, 'chuck steaks': 2, 'salted roasted pecans': 1, 'pork cutlets': 3, '(14.5 oz.) diced tomatoes': 1, 'gemelli': 14, 'caesar salad dressing': 6, 'low sodium tomato sauce': 1, 'low-fat mozzarella cheese': 10, 'hamburger buns': 7, 'roasted almonds': 3, 'sardines': 9, 'jelly': 4, 'chees mozzarella stick': 3, 'chestnut mushrooms': 4, 'homemade chicken broth': 2, 'soft fresh goat cheese': 17, 'gluten flour': 1, 'herb seasoning': 8, 'baby zucchini': 7, 'celery stick': 3, 'anchovies': 19, 'frozen broccoli florets': 6, 'knorr italian side   creami garlic shell': 1, 'sauterne': 1, 'hearts of palm': 3, 'turkey salami': 1, 'espresso powder': 1, 'organic tomato': 4, 'lean bacon': 1, 'pea shoots': 2, 'prepar pesto': 17, 'prego fresh mushroom italian sauce': 3, 'soft tofu': 4, 'italian style seasoning': 12, 'low sodium tomato juice': 3, 'whole wheat penne pasta': 2, 'baby broccoli': 2, 'pimento stuffed olives': 3, 'long grain brown rice': 1, 'low fat mozzarella': 6, 'flavoring': 1, 'mini pepperoni slices': 1, 'Pillsbury™ Refrigerated Crescent Dinner Rolls': 4, 'light cream cheese': 9, 'cream cheese with chives': 2, 'frozen artichoke hearts': 7, 'Bisquick Baking Mix': 1, 'pita bread rounds': 2, 'vermouth': 2, 'American cheese': 5, 'savory': 2, 'Cointreau Liqueur': 1, 'strawberry preserves': 1, 'pineapple chunks': 2, 'pita bread': 2, 'monterey jack': 8, 'prepared mustard': 3, 'DeLallo Extra Virgin Olive Oil': 1, 'carpaccio': 1, 'creme anglaise': 1, 'shiitake': 34, 'smoked paprika': 7, 'manchego cheese': 8, 'red cabbage': 5, 'watercress': 14, 'vinaigrette dressing': 4, 'halibut': 3, 'Knorr® Pasta Sides™ - Alfredo': 2, 'calf liver': 3, 'cooked italian meatballs': 2, 'campanelle': 6, 'center cut pork chops': 7, 'beef stock cubes': 6, 'wild garlic': 2, 'fresh pasta': 7, 'shredded swiss cheese': 7, 'unsalted pistachios': 4, 'vegetable bouillon': 6, 'white rum': 2, 'drambuie': 1, 'grenadine syrup': 2, 'Knorr Chicken Stock Pots': 1, 'parmigiano': 2, 'chili pepper flakes': 3, 'hearts of romaine': 5, 'oliv pit ripe': 1, 'preshred low fat mozzarella chees': 1, 'garlic bread': 2, 'fresh green peas': 3, 'lady fingers': 2, 'saffron': 8, 'gelatin': 2, 'fruit': 5, 'Swanson Vegetable Broth': 1, 'clove garlic, fine chop': 4, 'condensed cream of chicken soup': 10, 'burrata': 7, 'peperoncini': 5, 'ice cream': 4, 'tumeric': 5, 'coriander seeds': 7, 'yellow mustard seeds': 2, 'pork shoulder boston butt': 4, 'turkey breast tenderloins': 1, 'red kidney beans': 3, 'whole wheat rotini pasta': 1, 'drippings': 1, 'cheese sticks': 2, 'biscuit dough': 4, 'dried mushrooms': 3, 'lobster stock': 1, 'fresh chervil': 3, 'bittersweet chocolate chips': 1, 'lacinato kale': 5, 'reduced sodium chicken stock': 1, 'tilapia': 3, 'alfredo sauce mix': 2, 'chicken breast strips': 2, 'fat-free reduced-sodium chicken broth': 4, 'whole wheat spaghettini': 1, 'harissa paste': 1, 'oil-cured black olives': 8, 'Robert Mondavi Fume Blanc': 1, 'black beans': 5, 'no salt added chicken broth': 5, 'whole grain pasta': 2, 'bananas': 6, 'yellow food coloring': 2, 'sundried tomato pesto': 7, 'sandwich bread': 1, 'softened butter': 6, 'top sirloin steak': 3, 'pimento stuffed green olives': 7, 'dried salted codfish': 3, 'Madras curry powder': 1, 'white peaches': 2, 'pinot noir': 4, 'ruby red grapefruit': 1, 'campari': 9, 'kirschwasser': 1, 'garlic chili sauce': 1, 'meat sauce': 6, 'gyoza wrappers': 1, 'thyme leaves': 5, 'oregano leaves': 2, 'dried tarragon leaves': 11, 'cold milk': 3, 'grated horseradish': 1, 'brown chicken stock': 2, 'sourdough baguette': 6, 'muenster cheese': 1, 'gravy mix mushroom': 1, 'red leaf lettuce': 5, 'veal demi-glace': 2, 'unsalted beef stock': 1, 'Meyer lemon juice': 5, 'mild olive oil': 3, 'high gluten bread flour': 1, 'pork shoulder roast': 2, 'nutritional yeast': 8, 'medjool date': 1, 'pork country-style ribs': 2, 'round sourdough bread': 1, 'dri oregano leaves, crush': 4, 'low sodium low fat pasta sauce': 1, 'jumbo macaroni shells': 1, 'celery seed': 1, 'bechamel': 2, 'shaved parmesan cheese': 8, 'cashew nuts': 2, 'fryer chickens': 1, 'lemongrass': 1, '8 ounc ziti pasta, cook and drain': 1, 'hard salami': 2, 'dijon style mustard': 4, 'calamari': 9, 'steak': 6, 'low moisture mozzarella': 5, 'bagels': 2, 'dried apricot': 12, 'cornichons': 5, 'pickled vegetables': 2, 'chocolate leaves': 1, 'toasted baguette': 1, 'sweet sherry': 1, 'cubed pumpkin': 1, 'low-fat bottled italian dressing': 1, 'corn kernels': 13, 'tawny port': 3, 'apricot preserves': 7, 'calimyrna figs': 7, 'red mustard': 1, 'Bertolli® Arrabbiata Sauce': 1, 'turkey': 9, 'pasta spiral': 2, 'crab meat': 2, 'crushed saltines': 1, '2% low-fat cottage cheese': 5, 'pitted green olives': 14, 'smoked sausage': 4, 'couscous': 5, 'extra-lean ground beef': 2, 'chocolate-hazelnut spread': 1, 'swanson chicken broth': 2, 'relish': 2, 'grouper': 3, 'sea bass fillets': 5, 'low-fat milk': 8, 'bulgur': 2, \"hellmann' or best food light mayonnais\": 1, 'corkscrew pasta': 2, 'crab claws': 1, 'forest fruit': 2, 'superfine sugar': 7, 'Grand Marnier': 2, 'chicken meat': 5, 'garlic paste': 1, 'pork butt roast': 1, '25% less sodium chicken broth': 2, 'Philadelphia Light Cream Cheese': 3, 'italian-style meatballs': 2, 'quail': 3, 'reduced fat mozzarella': 3, 'royal olives': 1, 'San Marzano Diced Tomatoes': 1, 'old bay seasoning': 4, 'medium shrimp uncook': 4, 'stone-ground cornmeal': 2, 'sake': 1, 'uncook medium shrimp, peel and devein': 3, 'frozen pastry puff sheets': 6, 'rhubarb': 2, 'Philadelphia Cooking Creme': 2, 'quick-cooking barley': 3, 'mixed vegetables': 2, 'Bertolli Garlic Alfredo Sauce': 2, 'dried dillweed': 4, 'shortbread': 1, 'branzino': 4, 'veal for stew': 5, 'chicken drumsticks': 4, 'low fat cream': 1, 'vegetable stock powder': 1, 'extra lean minced beef': 1, 'sheep’s milk cheese': 2, 'vietnamese fish sauce': 1, 'whole wheat pizza dough': 5, 'cannoli shells': 3, 'Ragu Sauce': 1, 'seedless cucumber': 4, 'ricard': 1, 'tomato juice': 14, 'chop fine pecan': 3, 'white vermouth': 2, 'yoghurt': 2, 'cured meats': 1, 'mustard seeds': 1, 'almond milk': 4, 'miso paste': 1, 'manicotti': 6, 'jam': 3, 'organic sugar': 1, 'fresh bean': 2, 'flounder fillets': 4, 'andouille sausage links': 1, 'beef tenderloin steaks': 8, 'nonpareils': 2, 'dried mission figs': 2, 'fresh orange': 1, 'boneless center cut pork chops': 1, 'red grape': 2, 'rack of lamb': 1, 'semi-soft cheese': 1, 'coconut milk': 6, 'low fat mild Italian turkey sausage': 1, 'regular chicken broth': 1, 'celery salt': 11, 'light tuna packed in olive oil': 3, 'red swiss chard': 3, 'moose': 1, 'green chile': 10, 'pink peppercorns': 2, 'chopped bacon': 1, 'thyme sprig': 1, 'celery root': 6, 'proscuitto di parma': 1, 'walnut pieces': 6, 'meat bones': 1, 'romaine lettuce leaves': 5, 'Meyer lemon peel': 1, 'miniature semisweet chocolate chips': 4, 'tuna drained and flaked': 1, 'pickling spices': 1, 'casings': 4, 'extract': 3, 'canola mayonnaise': 4, 'cod': 3, 'cold cut': 1, 'tapenade': 5, 'port': 3, 'Italian turkey sausage links': 2, 'riesling': 2, 'ground walnuts': 4, 'lamb': 3, 'poultry': 1, 'Stonefire Italian Artisan Pizza Crust': 2, 'sea salt flakes': 3, 'italian pork sausage': 5, 'whole wheat seasoned breadcrumbs': 1, 'boned lamb shoulder': 2, 'edible flowers': 1, 'vidalia': 2, 'whole wheat orzo': 1, 'whipped cream cheese': 2, 'simple syrup': 2, 'challa': 1, 'beer': 4, 'whole wheat penne': 5, 'celtic salt': 3, 'cream sherry': 2, 'cookies': 8, 'pignolis': 2, 'sunflower seeds': 3, 'green garlic': 3, 'low-fat mayonnaise': 2, 'garam masala': 1, 'ground turmeric': 2, 'coriander powder': 1, 'jeera': 1, 'shredded cheese': 10, 'whole wheat baguette': 2, 'onion tops': 2, 'bone in chicken thighs': 5, 'fresh green bean': 11, 'pound cake mix': 1, 'unsweetened chocolate': 5, 'chopped nuts': 1, 'spiny lobsters': 1, 'ground hazelnuts': 1, 'peeled fresh ginger': 11, 'cranberry juice': 2, 'vanilla vodka': 1, 'white creme de cacao': 1, 'club soda': 3, 'whole wheat linguine': 4, 'deveined shrimp': 6, 'chicken pieces': 2, 'salad oil': 3, 'toasted sesame oil': 2, 'rice vinegar': 8, 'thai basil': 2, 'refrigerated chocolate chip cookie dough': 1, 'molasses': 4, 'bourbon whiskey': 5, 'San Marzano Crushed Tomatoes': 1, 'frozen meatballs': 1, 'roast beef deli meat': 3, 'cooked quinoa': 1, 'caper berries': 5, 'assorted fresh vegetables': 1, 'loaves': 3, 'seafood glaze': 1, 'boneless skinless chicken': 1, 'frozen pizza dough': 3, 'granita': 1, 'sole fillet': 1, 'pinto beans': 6, 'tilapia fillets': 7, 'nonfat chicken broth': 3, 'flavored syrup': 2, 'poblano chiles': 1, 'roast beef': 3, 'Burgundy wine': 3, 'round loaf': 2, 'refrigerated fettuccine': 8, 'adobo seasoning': 1, 'whipping heavy cream': 4, 'fat free lemon curd': 2, 'spanish chorizo': 2, 'blanched hazelnuts': 1, 'dill weed': 3, 'cherrystone clams': 2, 'crumbs': 7, 'ground bison': 1, 'veal scallops': 8, 'grated jack cheese': 2, 'canned salmon': 1, 'ciabatta buns': 1, 'mango': 6, 'imitation vanilla flavoring': 1, 'graham cracker crusts': 1, 'whole wheat uncooked lasagna noodles': 1, 'baking chocolate': 1, 'calamata olives': 4, 'corn husks': 5, 'safflower oil': 1, 'toasted sunflower seeds': 1, 'andouille sausage': 1, 'Madeira': 5, 'vermicelli': 9, 'pasilla pepper': 1, 'frozen mini ravioli': 1, 'chunky pasta sauce': 7, 'double cream': 1, 'bertolli four chees rosa sauc': 2, 'whitefish': 2, 'Nutella': 3, 'chicken wings': 2, 'chocolate chips': 2, 'boston butt': 2, 'sliced ham': 9, 'boneless turkey breast': 1, 'bread, cut french into loaf': 2, 'whole nutmegs': 6, 'chopped bell pepper': 4, 'bouquet': 1, 'chopped ham': 5, 'chicken leg quarters': 1, 'salsa': 8, 'shredded pepper jack cheese': 2, 'green pesto': 1, 'hazelnut oil': 2, 'gorgonzola dolce': 4, 'nonfat mayonnaise': 2, 'cajun seasoning': 5, 'anisette': 1, 'red sockeye': 1, 'center cut loin pork chop': 4, 'vine leaves': 1, 'brats': 1, 'tamari soy sauce': 1, 'traditional italian sauce': 2, 'free-range chickens': 1, 'Belgian endive': 12, 'corn': 3, 'kefir': 1, 'black truffles': 3, 'rennet': 2, 'citric acid': 3, 'tahini': 1, 'ceci bean': 1, 'shredded coconut': 1, 'crushed cornflakes': 1, 'extra firm tofu': 2, 'peeled deveined shrimp': 1, 'bouillon': 4, 'whole wheat hamburger buns': 3, 'cooked brown rice': 2, 'ground chicken breast': 2, 'cauliflower florets': 10, 'cook egg hard': 2, 'sweet vermouth': 5, 'gin': 3, 'and cook drain pasta ziti': 1, 'bone-in pork chops': 3, 'chopped cooked ham': 4, 'homemade chicken stock': 12, 'chilled seltzer': 1, 'squash blossoms': 1, 'new york strip steaks': 2, 'low-fat cream cheese': 5, 'cilantro sprigs': 1, 'dark sesame oil': 1, 'citron': 5, 'rye bread': 4, 'wheat bread': 3, 'ground chipotle chile pepper': 1, 'dandelion greens': 4, 'firmly packed light brown sugar': 2, 'unbaked pie crusts': 1, 'cockles': 4, 'tentacles': 9, 'veal loin': 1, 'turkey legs': 3, 'italian chicken sausage': 5, 'chardonnay': 4, 'sweet peas': 2, 'white truffle oil': 10, 'yellow tomato': 5, 'sliced tomatoes': 1, 'meatloaf': 4, 'bbq sauce': 3, 'green cardamom pods': 2, 'pepperoncini': 13, 'trout': 1, 'unsalted chicken stock': 4, 'meat fats': 1, 'honeydew melon': 4, 'ground meat': 3, 'dry milk powder': 4, 'mixed dried fruit': 2, 'bread machine yeast': 2, 'fillets': 6, 'filet mignon steaks': 1, 'red kidnei beans, rins and drain': 2, 'wheat bran': 2, 'powdered milk': 1, 'hard shelled clams': 3, 'white tuna in water': 3, 'wide egg noodles': 3, 'hot italian pork sausage': 1, 'boneless chicken cutlet': 1, 'wish-bone': 1, 'medium dry sherry': 4, 'smoked streaky bacon': 1, 'boneless beef rib eye steaks': 2, 'seafood': 1, 'pork loin chops': 7, 'dried chile': 5, 'sauce tomato': 2, 'whole wheat rigatoni': 3, 'virgin olive oil': 1, 'capocollo': 3, 'meat-filled tortellini': 1, 'ground sage': 1, 'chinese cabbage': 2, 'granulated white sugar': 1, 'cilantro': 3, 'pumpkin seeds': 3, 'water chestnuts': 3, 'cream of celery soup': 1, 'cream of mushroom soup': 6, 'jalape': 1, 'bacon pieces': 2, 'whole peppercorn': 2, 'bean soup': 1, 'pork rib chops': 1, 'pecans': 7, 'Velveeta': 3, 'gherkins': 2, 'crisps': 1, 'pickled onion': 1, 'pizza toppings': 3, 'baked pizza crust': 10, 'eau de vie': 1, 'toast': 5, 'crostini': 2, 'pastina': 2, 'rigatoni or large tube pasta': 2, 'yellow cake mix': 1, 'levain bread': 1, 'garlic and herb seasoning': 2, 'gingerroot': 2, 'fresh brussels sprouts': 1, 'dried chestnuts': 1, 'catfish fillets': 2, 'penn pasta, cook and drain': 3, 'bertolli organic tradit sauc': 1, 'new potatoes': 5, 'brine-cured olives': 8, 'Bartlett Pear': 2, 'tagliarini': 2, 'nonfat greek yogurt': 3, 'low sodium worcestershire sauce': 4, 'turkey kielbasa': 3, 'italian pizza crust': 1, 'whole chicken': 2, 'buffalo': 1, 'Stonefire Italian Thin Pizza Crust': 2, 'roast breast of chicken': 3, 'cooked bacon': 8, 'lobster meat': 2, 'English toffee bits': 1, 'gingersnap cookie crumbs': 1, 'ground cardamom': 6, 'rose petals': 1, 'Bob Evans Italian Sausage': 1, 'pernod': 3, 'chocolate glaze': 1, 'cake mix': 1, 'anchovy filets': 4, 'swordfish fillets': 1, 'apple jelly': 2, 'shredded lettuce': 1, 'low sodium fat free vegetable broth': 1, 'caramel topping': 1, 'low-fat ricotta': 3, 'pineapple': 1, 'champagne': 6, 'kiwi': 1, 'chorizo sausage': 3, 'min': 1, 'grated carrot': 4, 'canadian bacon': 12, 'french rolls': 3, 'condensed golden mushroom soup': 1, 'low sodium chicken': 1, 'crusty rolls': 1, 'chocolate curls': 1, 'Poire Williams': 1, 'low sodium garbanzo beans': 1, 'pickle spears': 1, 'precooked meatballs': 2, 'boneless chicken thighs': 4, 'Spike Seasoning': 2, 'low-fat marinara sauce': 3, 'country white bread': 6, 'Green Giant™ sliced mushrooms': 1, 'eel': 1, 'bisquick': 2, 'cooked meatballs': 6, 'bone-in chicken breasts': 3, 'small new potatoes': 2, 'compressed yeast': 2, 'low-fat goat cheese': 2, 'skinless flounder fillets': 1, 'hamburger': 5, 'white cheddar cheese': 4, 'black truffle oil': 3, 'tubetti': 7, 'veal loin chops': 2, 'triscuits': 1, 'chicken-flavored soup powder': 2, 'country loaf': 2, 'zest': 2, 'Gold Medal Flour': 2, 'pane di casa': 1, 'lemonade concentrate': 1, 'zinfandel': 1, 'shredded romano cheese': 2, 'soba': 1, 'fresh ginger': 4, 'Neufchâtel': 3, 'multi-grain penne pasta': 1, 'rye flour': 1, 'turkey meatballs': 1, 'hazelnut meal': 1, 'cabernet sauvignon': 2, 'cumin': 3, 'dumplings': 2, 'ground chicken': 9, 'dried lentils': 6, 'port wine': 4, 'brown gravy': 1, 'pita chips': 2, 'grate lime peel': 2, 'smoked ham hocks': 2, 'flat leaf spinach': 4, 'Ragu Golden Veggie Fettuccine Pasta': 1, 'Ragu Classic Alfredo Sauce': 1, 'color food green': 2, 'red food coloring': 6, 'tarragon': 4, 'green chard': 1, 'wheat germ': 2, 'tea bags': 3, 'grapes': 4, 'butter oil': 3, 'roasted pistachios': 3, 'ragu old world style sweet tomato basil pasta sauc': 2, 'dri thyme leaves, crush': 2, 'large curd cottage cheese': 2, 'soya bean': 3, 'beet greens': 2, 'light pancake syrup': 1, 'red currant jelly': 1, 'bread rolls': 1, 'red raspberries': 1, 'dried tagliatelle': 1, 'roasted tomatoes': 6, 'boneless, skinless chicken breast': 6, 'tropical fruits': 1, 'melon': 2, 'low-fat pasta sauce': 4, '(10 oz.) frozen chopped spinach': 3, 'soup mix': 1, 'string beans': 2, 'seasoned croutons': 1, '33% less sodium ham': 3, 'low fat low sodium chicken broth': 2, 'whole wheat bread cubes': 1, 'chocolate sauce': 1, 'chocolate sprinkles': 1, 'spicy sausage': 1, 'seafood stock': 1, 'mussels, well scrubbed': 2, 'ginger': 1, 'jumbo shrimp': 6, 'vanilla frozen yogurt': 1, 'skate': 1, 'chile pepper': 2, 'poblano peppers': 1, 'shanks': 2, 'canned chopped tomatoes': 2, 'smoked bacon': 3, 'green split peas': 1, 'peanut oil': 4, 'petite peas': 1, 'salad dressing mix': 2, \"Campbell's Condensed Cream of Mushroom Soup\": 1, 'whole kernel corn, drain': 4, 'chicken tenderloin': 5, 'chunky tomato sauce': 3, 'buffalo mozzarella': 4, 'chicken soup base': 4, 'knorr homestyl stock   chicken': 2, 'white cannellini beans': 2, 'fennel fronds': 1, 'serrano chilies': 2, 'pineapple juice concentrate': 1, 'tuaca': 1, 'natural pistachios': 3, 'nonfat yogurt plain': 1, 'chile powder': 1, 'bâtarde': 1, 'mostarda': 2, 'New York Style Panetini® toasts': 1, 'roast turkey': 2, 'ciabatta roll': 1, 'swordfish': 1, 'sweet turkey sausage': 1, 'Corn Flakes Cereal': 2, 'turkey breakfast sausage': 1, 'brandy extract': 1, 'refrigerated crescent rolls': 7, 'robiola': 2, 'condensed cream of potato soup': 1, 'wheels': 1, 'chipotles in adobo': 2, 'whiskey': 3, 'semi pearled farro': 2, 'chilled prosecco': 4, 'shiraz': 1, 'low fat chunky mushroom pasta sauce': 1, 'garlic herb feta': 4, 'low sodium parmesan cheese': 1, 'extra sharp cheddar cheese': 2, 'low-fat vegetable primavera spaghetti sauce': 1, 'balsamic vinaigrette salad dressing': 2, 'parmigiana-reggiano': 1, 'liver': 1, 'cornish game hens': 2, 'long-grain rice': 10, 'pastry dough': 2, 'bulb fennel': 1, 'low sodium canned chicken broth': 1, 'ponzu': 2, 'Ragu® Robusto!® Pasta Sauce': 1, 'smoked mozzarella': 1, 'acorn squash': 4, 'hot cherry pepper': 5, 'lean ground pork': 8, 'turkey sausage links': 1, 'soft rolls': 1, 'white cake mix': 2, 'white chocolate chips': 4, 'food colouring': 1, 'frozen green beans': 2, 'sherry wine vinegar': 6, 'progresso reduced sodium chicken broth': 3, 'fatfree lowsodium chicken broth': 3, 'orange flower water': 4, 'baby greens': 5, 'frozen pound cake': 1, 'yellow summer squash': 2, 'chickpea flour': 3, 'vegan coffee creamer': 1, 'steak seasoning': 4, 'Texas toast bread': 1, 'salted roasted almonds': 1, 'nonfat dry milk': 2, 'vital wheat gluten': 1, 'colby cheese': 2, 'mustard greens': 5, 'smoked turkey breast': 1, 'shellfish': 1, 'okra': 2, 'brown gravy mix': 1, 'boneless skinless turkey breasts': 1, 'biscotti': 2, 'petits pois': 1, 'marinade': 2, 'water packed artichoke hearts': 1, 'pepper jack': 1, 'steamed rice': 1, 'cornish hens': 3, 'bresaola': 2, 'fresh cheese': 2, 'italian sauce': 1, 'onion soup mix': 3, 'plain breadcrumbs': 3, 'Johnsonville® Mild Italian Ground Sausage': 2, 'balsamic reduction': 5, 'frozen stir fry vegetable blend': 1, 'leg of lamb': 4, 'crescent rolls': 1, 'spelt': 3, 'vegan margarine': 1, 'chiffonade': 1, 'zucchini blossoms': 1, 'dry fettuccine': 1, 'whole wheat penne rigate': 1, 'sirloin steak': 3, 'jumbo shells': 3, 'clam sauce': 1, 'cashew butter': 1, 'oat milk': 1, 'vanilla bean paste': 1, 'shredded extra sharp cheddar cheese': 2, 'reduced fat reduced sodium tomato and herb pasta sauce': 1, 'celery heart': 2, 'bibb lettuce': 3, 'hot dog bun': 2, 'country style italian bread': 1, 'orange roughy fillet': 1, 'clarified butter': 1, 'shredded basil': 2, 'polenta corn meal': 2, 'alfalfa sprouts': 1, 'candied ginger': 1, 'Boston lettuce': 2, 'dried leaves oregano': 3, 'Jimmy Dean All Natural Regular Pork Sausage': 1, 'dry gin': 1, 'twists': 1, 'turkey broth': 1, 'vegetable-filled ravioli': 1, 'phyllo pastry': 1, 'store-bought pound cake': 1, 'evaporated cane juice': 1, 'unsweetened soymilk': 2, 'wild rice': 2, 'mini marshmallows': 2, 'graham crackers': 2, 'fresno chiles': 1, 'pattypan squash': 3, 'sorrel': 2, 'seedless raspberry jam': 2, 'lime slices': 1, 'orange slices': 2, 'crushed ice': 4, 'sweet and sour mix': 1, 'tequila': 2, 'hoagi or roll': 1, 'wax beans': 1, 'hoagie buns': 1, 'whole wheat thin italian pizza crust': 1, 'asparagus bean': 1, 'nonfat buttermilk': 1, 'green figs': 1, 'prepared horseradish': 2, 'refrigerated four cheese ravioli': 2, 'caraway seeds': 2, 'Domino Confectioners Sugar': 1, 'sorbet': 3, 'paccheri': 2, 'white italian tuna in olive oil': 2, 'frozen whip topping, thaw': 1, 'chocolate fudge ice cream': 1, 'frozen raspberries': 1, 'gran marnier': 2, 'chocolatecovered espresso beans': 1, 'burger style crumbles': 1, 'boneless beef roast': 1, 'pear nectar': 2, 'green cauliflower': 1, 'boneless chicken breast halves': 5, 'herb cheese': 1, 'wish-bone light country italian dressing': 1, 'strawberry ice cream': 2, 'chocolate ice cream': 1, 'vanilla instant pudding': 4, 'fresh pineapple': 1, 'black tea leaves': 1, 'gluten': 2, 'radicchio leaves': 2, 'giant white beans': 1, 'Tipo 00 flour': 1, 'large free range egg': 1, 'serrano ham': 1, 'whole wheat fusilli': 1, 'San Marzano tomatoes': 1, 'apricot nectar': 2, 'smoked chicken sausages': 1, 'turnips': 1, 'jerusalem artichokes': 1, 'cauliflower flowerets': 1, 'pea pods': 1, 'ragu pizza quick sauc': 1, 'toasted wheat germ': 1, 'preserved lemon': 2, 'harissa': 1, 'red grapefruit': 2, 'kumquats': 2, 'icing': 1, 'back bacon rashers': 1, 'waxy potatoes': 2, 'dill pickles': 3, 'frozen chopped broccoli': 3, 'shredded low-fat mozzarella cheese': 3, 'vegetable juice cocktail': 1, 'low-fat balsamic vinaigrette': 1, 'cooked white rice': 1, 'bertolli vodka sauc made with fresh cream': 1, 'boneless pork shoulder': 4, 'whole wheat pita rounds': 1, 'puff pastry sheets': 1, 'rib eye steaks': 2, 'sambal ulek': 1, 'muffin mix': 3, 'buttermilk cornbread': 3, 'condensed tomato soup': 6, 'peach nectar': 2, 'frozen peach slices': 1, 'lamb rib chops': 2, 'chicken fillets': 1, 'mustard': 8, 'beef tenderloin': 3, 'imitation crab meat': 1, 'carnation': 1, 'evaporated low-fat 2% milk': 1, 'lime peel': 1, 'canned tuna': 1, 'arrowroot': 2, 'veget soup mix': 1, 'gyoza': 3, 'biga': 1, 'dijon': 1, 'pumpkin purée': 4, 'cardoons': 1, 'whole wheat thin spaghetti': 3, 'torpedo rolls': 1, 'au jus mix': 1, 'puff pastry': 2, 'homemade vegetable stock': 1, 'veal shoulder': 1, 'harissa sauce': 1, 'ground paprika': 1, 'chili': 1, 'Marcona almonds': 1, 'low sodium tomato paste': 1, 'chees fresco queso': 1, 'top loin steaks': 2, 'fresh coriander': 1, 'sea bass': 1, 'kiwifruit': 1, 'whole grain rice': 1, 'fines herbes': 1, 'raspberry jam': 1, 'striped bass': 5, 'solid white tuna': 3, 'dry mustard': 6, 'skinless salmon fillets': 1, 'mature cheddar': 2, 'veal rib chops': 3, 'artisan bread': 1, 'shredded low-fat jarlsberg cheese': 1, 'quick-cooking oats': 5, 'mincemeat': 1, 'lemon pepper seasoning': 1, 'condensed reduced fat reduced sodium cream of chicken soup': 2, 'frozen broad beans': 1, 'chicken breast fillets': 1, 'dri leav rosemari': 2, 'lamb stew meat': 2, 'English muffins': 2, 'short-grain rice': 1, 'pomegranate juice': 2, 'pomegranate seeds': 3, 'microgreens': 1, 'fresh pork fat': 1, 'black-eyed peas': 3, 'roasted cashews': 3, 'sweetener': 1, 'farfalline': 1, 'dried shiitake mushrooms': 1, 'rotel pasta, cook and drain': 2, 'preserv raspberri seedless': 1, 'leaf parsley': 1, 'powdered vanilla pudding mix': 1, 'low-fat crème fraîche': 1, 'filling': 1, 'beef for stew': 1, 'garlic olive oil': 1, 'chestnut purée': 1, 'reduced fat mayonnaise': 2, 'apple pie filling': 1, 'garlic chives': 1, 'whitefish fillets': 2, 'diced ham': 1, 'peanuts': 1, 'low fat cream of celery soup': 1, 'garlic sauce': 2, 'crispy rice cereal': 1, 'kirby cucumbers': 2, 'fish sauce': 2, 'condensed french onion soup': 1, 'seasoning mix': 2, 'whole grain bread': 4, 'solid white tuna in oil': 1, 'pecan halves': 2, 'pitted Medjool dates': 1, 'pitted date': 2, 'macadamia nuts': 1, 'pumpkin pie spice': 1, 'grits': 3, 'Heinz Worcestershire Sauce': 1, 'Heinz Chili Sauce': 1, 'bone in skin on chicken thigh': 2, '1% low-fat buttermilk': 1, 'Jarlsberg': 1, 'wild salmon': 1, 'loin': 1, 'base': 1, 'chicken nugget': 1, 'spicy pork sausage': 3, 'chips': 1, 'peach schnapps': 1, 'extra large shrimp': 3, 'refrigerated piecrusts': 4, 'seasoned rice wine vinegar': 1, 'sweet paprika': 3, 'country ham': 3, 'free-range eggs': 1, 'tart crust': 1, 'raw sugar': 4, 'spices': 2, 'halibut steak': 2, 'durum wheat flour': 2, 'garlic herb spreadable cheese': 1, 'fully cooked ham': 1, 'Pillsbury Thin Pizza Crust': 1, 'flavored rice mix': 1, 'almond liqueur': 3, 'gluten free marinara sauce': 1, 'gluten free lasagna noodle': 1, 'tomato cream sauce': 1, 'low-fat cheese': 1, 'pure maple syrup': 2, 'dried tomatoes': 1, 'sweet italian pork sausage': 2, 'apple cider': 4, 'brown mustard': 2, 'tomato salsa': 1, 'raw peeled prawns': 1, 'no-salt-added diced tomatoes': 3, 'Barilla Linguine': 1, 'soup': 4, 'smoked ham': 1, 'shredded reduced fat cheddar cheese': 5, 'corn tortillas': 1, 'Red Gold® diced tomatoes': 1, 'elbow pasta': 2, 'pork sausage casing': 1, 'Good Seasons Italian Dressing Mix': 3, 'refrigerated dinner rolls': 1, 'essence': 1, 'parma ham': 1, 'flaxseed': 2, 'unsalted almonds': 1, 'dark chocolate chip': 1, 'condensed cheddar cheese soup': 1, 'passion fruit': 1, 'snapper fillets': 1, 'carrot sticks': 1, 'top round steak': 2, 'DeLallo Penne Ziti': 1, 'garlic pepper seasoning': 2, 'crushed pineapple': 2, 'refrigerated seamless crescent dough': 1, 'KRAFT Zesty Italian Dressing': 2, 'crab': 3, 'acini di pepe': 3, 'wheat': 5, 'boneless duck breast': 1, 'sliced salami': 1, 'chocolate syrup': 2, 'cappuccino': 1, 'blackberry jam': 1, 'cocktail cherries': 2, 'snaps': 1, 'alphabet pasta': 1, 'fat free beef broth': 1, 'reduced sodium vegetable stock': 1, 'marjoram leaves': 1, 'cookie crumbs': 2, 'unsweetened coconut milk': 1, 'crepes': 1, 'sparkling wine': 2, 'kielbasa': 2, 'lemon thyme': 1, 'brown shrimp': 1, 'bacon fat': 1, 'frozen hash browns': 1, 'quinces': 2, 'quahog clams': 1, 'barley': 1, 'KRAFT Shredded Low-Moisture Part-Skim Mozzarella Cheese': 1, 'smoked sea salt': 1, 'framboise eau-de-vie': 1, 'finely ground coffee': 1, 'colby jack cheese': 1, 'diced chicken': 1, 'lamb loin chops': 2, 'stone ground mustard': 1, 'whole wheat berries': 1, 'pies': 1, 'enokitake': 1, 'king crab legs': 1, 'fat free less sodium vegetable broth': 1, 'demi-glace': 1, 'yellow mustard': 3, 'cream filled chocolate sandwich cookies': 1, 'irish cream liqueur': 1, 'mission figs': 1, 'cake pound prepar': 1, 'rib pork chops': 1, 'meat extract': 1, 'strong white bread flour': 1, 'caster sugar': 1, 'golden mushroom soup': 1, 'corned beef': 1, 'fresh white truffles': 1, 'chocolate milk': 1, 'lemon curd': 1, 'ruby port': 3, 'ground tumeric': 1, 'rock shrimp': 1, 'cooking sherry': 2, 'baking mix': 1, 'asti spumante': 1, 'cardamom pods': 1, 'fresh tuna steaks': 2, 'spring water': 1, 'rosé wine': 1, 'whole wheat pita': 1, 'sub rolls': 1, 'beef consomme': 2, 'marrow': 1, 'barolo': 2, 'lemon pepper': 3, 'streaky bacon': 1, 'scallion greens': 2, 'chunky style pasta sauce': 1, 'green leaf lettuce': 1, '33% less sodium cooked deli ham': 1, 'whole wheat crackers': 1, 'frozen blueberries': 1, 'clementine juice': 1, 'cornflake crumbs': 2, 'brown mushroom': 2, 'low fat part skim ricotta chees': 1, 'hot italian turkey sausage links': 2, 'sliced green olives': 2, 'raw pistachios': 2, 'toasted pecans': 2, 'watercress leaves': 2, 'juice concentrate': 1, 'wheat cereal': 1, 'radish sprouts': 1, 'potato starch': 2, \"za'atar\": 1, 'sumac powder': 1, 'reduced sodium italian style stewed tomatoes': 1, 'jasmine rice': 1, 'chili paste': 1, 'beansprouts': 1, 'cold-smoked salmon': 1, 'scape pesto': 1, 'whole wheat spaghetti noodles': 1, 'sauvignon blanc': 1, 'grape juice': 1, 'corn tortilla chips': 1, 'cheese sauce': 1, 'low sodium crushed tomatoes': 2, 'light rum': 1, 'mixed frozen seafood': 1, 'baby artichokes': 1, 'jumbo shell pasta , cook and drain': 1, 'tangerine': 1, 'pilsner': 1, 'turnip greens': 1, 'pan drippings': 1, 'raw cashews': 3, 'tapioca starch': 1, 'agave nectar': 2, 'schmaltz': 1, 'gray salt': 2, 'soup pasta': 1, 'low sodium broth': 1, 'brown rice syrup': 1, 'erythritol': 1, 'unsweetened almond milk': 1, 'italian vinaigrette': 1, 'turkey bacon': 1, 'herbed goat cheese': 1, 'whole wheat rotini': 2, 'garlic shoots': 2, 'boneless chuck roast': 5, 'cubed pancetta': 1, 'dri basil leaves, crush': 2, 'vodka sauce': 1, 'butterscotch chips': 1, 'potato chips': 1, 'mackerel fillets': 1, 'french dressing': 1, 'cherry pie filling': 1, 'quick yeast': 1, 'white asparagus': 1, 'center cut pork loin chops': 1, 'turkey meat': 1, 'walnut oil': 3, 'Angostura bitters': 1, 'Fuji Apple': 1, 'green grape': 2, 'val': 1, 'dried rigatoni': 1, 'coarse semolina': 1, 'salted pistachios': 1, 'lecithin': 1, 'anise oil': 2, 'black salt': 1, 'fire roasted diced tomatoes': 2, 'Progresso Artichoke Hearts': 1, 'boneless rib eye steaks': 3, 'all purpose seasoning': 1, 'stir fry vegetable blend': 1, 'Sangiovese': 1, 'slider buns': 1, 'fat-free croutons': 1, 'Bisquick Original All-Purpose Baking Mix': 1, 'albacore': 1, 'hot pepper': 3, 'dried beans': 1, 'truffle salt': 1, 'endive': 1, 'broiler chicken': 1, 'white hominy': 1, 'salmon': 3, 'oleo': 1, 'frozen ravioli': 2, 'short rib': 2, 'low-sodium low-fat chicken broth': 1, 'fedelini': 1, 'chunky': 2, 'broiler-fryers': 1, 'triple sec': 1, 'dried raspberry': 1, 'hothouse cucumber': 2, 'fingerling potatoes': 1, 'breadcrumb mix': 1, \"Hellmann's Dijonnaise Creamy Dijon Mustard\": 1, 'ancho chile pepper': 1, 'pastry cream': 1, 'mandarin oranges': 1, 'mixed mushrooms': 1, 'chicken bones': 1, 'unbleached flour': 1, 'white flour': 1, 'sun dried tomato dressing': 1, 'bigoli': 1, 'cucuzza': 1, 'Italian seasoned diced tomatoes': 1, 'red delicious apples': 1, 'plain low-fat yogurt': 1, 'horseradish sauce': 1, 'frozen limeade concentrate': 1, 'gluten-free spaghetti': 2, 'brown rice spaghetti': 1, 'fat free ice cream': 1, 'nonfat mozzarella cheese': 1, 'salad leaves': 1, 'hungarian sweet paprika': 1, 'lower sodium beef broth': 1, 'pig feet': 1, 'grapefruit': 2, 'white zinfandel': 1, 'flax seeds': 1, 't-bone steak': 2, 'stuffing mix': 3, 'butter lettuce': 1, 'chorizo': 1, 'Pillsbury™ classic pizza crust': 1, 'grapefruit juice': 1, 'buffalo mozarella': 2, 'cremini': 1, 'dried kidney beans': 1, 'low-fat firm silken tofu': 1, 'bacon bits': 1, 'wheatberries': 1, 'whole wheat tortillas': 1, 'hot italian turkey sausage': 2, 'silken tofu': 1, 'spicy brown mustard': 2, 'Italian basil': 1, 'stuffing': 2, 'mango chutney': 1, 'coars ground black pepper': 2, 'cream cheese spread': 1, 'porcini powder': 2, 'Lea & Perrins Worcestershire Sauce': 1, 'cream cheese lowfat': 1, 'Old El Paso Flour Tortillas': 1, 'bing cherries': 1, 'yolk': 2, 'tubettini': 1, 'phyllo dough': 1, 'hazelnut liqueur': 3, 'dry jack': 1, 'refrigerated buttermilk biscuits': 2, 'slider rolls': 1, 'white distilled vinegar': 1, 'verjus': 1, 'crouton italian season': 1, 'low-fat parmesan cheese': 1, 'mustard powder': 1, 'bouillon cube': 1, 'venison': 1, 'enriched white rice': 1, 'Tuaca Liqueur': 1, 'italian rolls': 1, 'giblet': 1, 'chioggia': 1, 'veal medallions': 1, 'medium-grain rice': 1, 'ham hock': 1, 'treviso radicchio': 1, 'rosemary needles': 1, 'coarse sugar': 1, 'black grapes': 1, 'matzo cake meal': 1, 'pork roast': 3, 'manzanilla': 1, 'cornflakes': 1, 'chili sauce': 3, 'pink grapefruit juice': 1, 'star anise': 1, 'bitters': 1, 'seasoning rub': 1, 'shoulder roast': 1, 'frozen shelled edamame': 1, 'nonfat half-and-half': 1, 'low sodium beef stock': 1, 'low-fat soft goat cheese': 1, 'cured pork': 1, 'catfish': 1, 'roasted chestnuts': 1, 'diced potatoes': 1, 'barilla piccolini mini': 1, 'brown butter': 1, 'grill seasoning': 1, 'cold meatloaf': 2, 'beef marrow': 1, 'saffron powder': 1, 'tuna in oil': 2, 'Diamond Crystal® Kosher Salt': 1, 'peppermint extract': 1, 'whole wheat angel hair pasta': 3, 'chopped leaves': 1, 'sherry wine': 1, 'black': 1, 'medium zucchini': 1, 'tortellini, cook and drain': 2, 'pepper sauce': 1, 'meat filling': 1, 'brown rice penne': 1, 'reduced fat ranch dressing': 1, 'vanilla pudding': 1, 'instant rice': 1, 'sesame oil': 1, 'marshmallows': 1, 'cooked steak': 1, 'whole wheat bread slices': 1, 'frozen brussels sprouts': 1, 'gnocchetti sardi': 1, 'Progresso Balsamic Vinegar': 1, 'unsalted pumpkinseed kernels': 1, 'chestnut spread': 1, 'medium eggs': 2, 'Bertolli Tomato & Basil Sauce': 1, 'tangerine juice': 1, 'small shells': 1, 'speck': 1, 'french onion soup': 1, 'deli rolls': 1, 'seafood seasoning': 1, 'plain whole-milk yogurt': 1, 'pancetta slices': 2, 'goat s milk cheese': 1, 'red beets': 1, 'Wish-Bone® Robusto Italian Dressing': 1, 'old-fashioned oats': 1, 'unsalted shelled pistachio': 1, 'prosciutto fat': 1, 'vanilla bean seeds': 1, 'oats': 1, 'mushroom soup': 1, 'tomato soup': 1, 'organic unsalted butter': 1, 'fresh corn': 1, 'chicken thigh fillets': 1, 'german mustard': 1, 'Knorr® Pasta Sides™ - Butter & Herb': 1, 'cut up cooked chicken': 1, 'pie crust': 2, 'borlotti': 1, 'five-spice powder': 1, 'pink grapefruit': 1, 'proscuitto': 1, 'pearl couscous': 1, 'homemade meatballs': 1, 'ground espresso': 1, 'shark': 1, 'shortbread cookies': 1, 'candy bar': 1, 'whole grain rotini': 1, 'loin pork chops': 1, 'Hidden Valley® Farmhouse Originals Italian with Herbs Dressing': 1, 'luke warm water': 1, 'crushed pineapples in juice': 1, 'corn bread crumbs': 1, 'applesauce': 1, 'veggie crumbles': 1, 'Mexican seasoning mix': 1, 'green peppercorns': 2, 'fingerling': 1, 'earl grey tea bags': 1, 'dill': 2, 'whole wheat bread dough': 1, 'horseradish': 2, 'sugar cane': 1, 'edamame beans': 1, 'whole wheat sourdough bread': 1, 'dark corn syrup': 1, 'hot pepperoni': 1, 'italian meatballs': 1, 'stout': 1, 'honeycomb tripe': 1, 'oil packed dried tomatoes': 2, 'white fleshed fish': 1, 'veal escalopes': 1, 'v8': 1, 'haddock': 1, 'kahlua': 1, 'farmer cheese': 1, 'red chili powder': 1, 'cheese spread': 1, 'shuck corn': 1, 'Progresso Diced Tomatoes': 1, 'golden zucchini': 1, 'friselle': 1, 'Flora Cuisine': 1, 'Knorr Beef Stock Cubes': 1, 'huckleberries': 1, 'unseasoned breadcrumbs': 1, 'soft-wheat flour': 1, 'seeds': 1, 'French bread loaves': 1, 'Mexican oregano': 1, 'hot fudge topping': 1, 'skirt steak': 1, 'blue crabs': 1, 'sunchokes': 1, 'picante sauce': 1, 'Ragu Traditional Sauce': 1, 'boneless veal shoulder': 1, 'hungarian paprika': 1, 'Classico Pasta Sauce': 1, 'spring greens': 1, 'tortelloni': 1, 'peach preserves': 1, 'jasmine': 1, 'sandwich wraps': 1, 'curly parsley': 1, 'hot pepper rings': 1, 'spicy salami': 1, 'gold potatoes': 1, 'nutritional yeast flakes': 1, 'rome apples': 1, 'pork shoulder butt': 1, 'Himalayan salt': 1, 'ground pork sausage': 1, 'basil mayonnaise': 1, 'frozen lemonade concentrate, thawed and undiluted': 1, 'condensed soup': 1, 'russet': 1, 'Barilla Plus Pasta': 1, 'turkey giblet stock': 1, 'pasta shapes': 1, 'conchiglie': 1, 'kirschenliqueur': 1, '2% milk shredded mozzarella cheese': 1, 'andouille chicken sausage': 1, 'sponge': 1, 'rotini pasta, cook and drain': 1, 'red': 1, 'chipotle sauce': 1, 'extra wide egg noodles': 1, 'pork meat': 1, 'shrimp shells': 1, 'tomato garlic pasta sauce': 1})\n"
     ]
    }
   ],
   "source": [
    "## TODO: 统计意大利菜系中佐料出现次数，并赋值到italian_ingredients字典中\n",
    "from collections import defaultdict\n",
    "italian_ingredients=defaultdict(int)\n",
    "i=0\n",
    "for recipe in train_ingredients:\n",
    "    if train_targets[i]=='italian':\n",
    "        for raw in recipe:\n",
    "            italian_ingredients[raw]+=1\n",
    "    i+=1\n",
    "print(italian_ingredients)"
   ]
  },
  {
   "cell_type": "code",
   "execution_count": 11,
   "metadata": {},
   "outputs": [
    {
     "name": "stderr",
     "output_type": "stream",
     "text": [
      "/opt/conda/lib/python3.6/site-packages/matplotlib/figure.py:418: UserWarning: matplotlib is currently using a non-GUI backend, so cannot show the figure\n",
      "  \"matplotlib is currently using a non-GUI backend, \"\n"
     ]
    },
    {
     "data": {
      "image/png": "[encoded data removed]",
      "text/plain": [
       "<matplotlib.figure.Figure at 0x7fc8c023e198>"
      ]
     },
     "metadata": {},
     "output_type": "display_data"
    }
   ],
   "source": [
    "## 请不要修改下方代码\n",
    "# Finally, plot the 10 most used ingredients\n",
    "fig = pd.DataFrame(italian_ingredients, index=[0]).transpose()[0].sort_values(ascending=False, inplace=False)[:10].plot(kind='barh')\n",
    "fig.invert_yaxis()\n",
    "fig = fig.get_figure()\n",
    "fig.tight_layout()\n",
    "fig.show()"
   ]
  },
  {
   "cell_type": "markdown",
   "metadata": {},
   "source": [
    "若想要对数据分析做更深入的了解，可以参考[数据分析师入门课程](https://cn.udacity.com/dand)或者[基于Python语言的人工智能Nano课程](https://www.udacity.com/legal/ai-programming)."
   ]
  },
  {
   "cell_type": "markdown",
   "metadata": {},
   "source": [
    "---\n",
    "## 第三步. 建立模型\n",
    "在项目的第三步中，你需要了解必要的工具和技巧来让你的模型进行预测。用这些工具和技巧对每一个模型的表现做精确的衡量可以极大地增强你预测的信心。"
   ]
  },
  {
   "cell_type": "markdown",
   "metadata": {},
   "source": [
    "### 3.1 单词清洗\n",
    "由于菜品包含的佐料众多，同一种佐料也可能有单复数、时态等变化，为了去除这类差异，我们考虑将**ingredients** 进行过滤"
   ]
  },
  {
   "cell_type": "code",
   "execution_count": 12,
   "metadata": {},
   "outputs": [
    {
     "name": "stdout",
     "output_type": "stream",
     "text": [
      "\n",
      "处理训练集...\n",
      "菜品佐料：\n",
      "['chopped tomatoes', 'fresh basil', 'garlic', 'extra-virgin olive oil', 'kosher salt', 'flat leaf parsley']\n",
      "去除标点符号之后的结果：\n",
      "['chopped tomatoes', 'fresh basil', 'garlic', 'extra virgin olive oil', 'kosher salt', 'flat leaf parsley']\n",
      "去除时态和单复数之后的结果：\n",
      "chopped tomato fresh basil garlic extra virgin olive oil kosher salt flat leaf parsley\n",
      "\n",
      "处理测试集...\n",
      "菜品佐料：\n",
      "['eggs', 'cherries', 'dates', 'dark muscovado sugar', 'ground cinnamon', 'mixed spice', 'cake', 'vanilla extract', 'self raising flour', 'sultana', 'rum', 'raisins', 'prunes', 'glace cherries', 'butter', 'port']\n",
      "去除标点符号之后的结果：\n",
      "['eggs', 'cherries', 'dates', 'dark muscovado sugar', 'ground cinnamon', 'mixed spice', 'cake', 'vanilla extract', 'self raising flour', 'sultana', 'rum', 'raisins', 'prunes', 'glace cherries', 'butter', 'port']\n",
      "去除时态和单复数之后的结果：\n",
      "egg cherry date dark muscovado sugar ground cinnamon mixed spice cake vanilla extract self raising flour sultana rum raisin prune glace cherry butter port\n"
     ]
    }
   ],
   "source": [
    "## 请不要修改下方代码\n",
    "import re\n",
    "from nltk.stem import WordNetLemmatizer\n",
    "import numpy as np\n",
    "\n",
    "def text_clean(ingredients):\n",
    "    #去除单词的标点符号，只保留 a..z A...Z的单词字符\n",
    "    ingredients= np.array(ingredients).tolist()\n",
    "    print(\"菜品佐料：\\n{}\".format(ingredients[9]))\n",
    "    ingredients=[[re.sub('[^A-Za-z]', ' ', word) for word in component]for component in ingredients]\n",
    "    print(\"去除标点符号之后的结果：\\n{}\".format(ingredients[9]))\n",
    "\n",
    "    # 去除单词的单复数，时态，只保留单词的词干\n",
    "    lemma=WordNetLemmatizer()\n",
    "    ingredients=[\" \".join([ \" \".join([lemma.lemmatize(w) for w in words.split(\" \")]) for words in component])  for component in ingredients]\n",
    "    print(\"去除时态和单复数之后的结果：\\n{}\".format(ingredients[9]))\n",
    "    return ingredients\n",
    "\n",
    "print(\"\\n处理训练集...\")\n",
    "train_ingredients = text_clean(train_content['ingredients'])\n",
    "print(\"\\n处理测试集...\")\n",
    "test_ingredients = text_clean(test_content['ingredients'])\n"
   ]
  },
  {
   "cell_type": "markdown",
   "metadata": {},
   "source": [
    "### 3.2 特征提取\n",
    "在该步骤中，我们将菜品的佐料转换成数值特征向量。考虑到绝大多数菜中都包含`salt, water, sugar, butter`等，采用one-hot的方法提取的向量将不能很好的对菜系作出区分。我们将考虑按照佐料出现的次数对佐料做一定的加权，即：佐料出现次数越多，佐料的区分性就越低。我们采用的特征为TF-IDF，相关介绍内容可以参考：[TF-IDF与余弦相似性的应用（一）：自动提取关键词](http://www.ruanyifeng.com/blog/2013/03/tf-idf.html)。"
   ]
  },
  {
   "cell_type": "code",
   "execution_count": 13,
   "metadata": {},
   "outputs": [],
   "source": [
    "## 请不要修改下方代码\n",
    "from sklearn.feature_extraction.text import TfidfVectorizer\n",
    "# 将佐料转换成特征向量\n",
    "\n",
    "# 处理 训练集\n",
    "vectorizer = TfidfVectorizer(stop_words='english', ngram_range=(1, 1),\n",
    "                analyzer='word', max_df=.57, binary=False,\n",
    "                token_pattern=r\"\\w+\",sublinear_tf=False)\n",
    "train_tfidf = vectorizer.fit_transform(train_ingredients).todense()\n",
    "\n",
    "## 处理 测试集\n",
    "test_tfidf = vectorizer.transform(test_ingredients)"
   ]
  },
  {
   "cell_type": "code",
   "execution_count": 14,
   "metadata": {},
   "outputs": [
    {
     "data": {
      "text/plain": [
       "['greek',\n",
       " 'southern_us',\n",
       " 'filipino',\n",
       " 'indian',\n",
       " 'indian',\n",
       " 'jamaican',\n",
       " 'spanish',\n",
       " 'italian',\n",
       " 'mexican',\n",
       " 'italian']"
      ]
     },
     "execution_count": 14,
     "metadata": {},
     "output_type": "execute_result"
    }
   ],
   "source": [
    "## 请不要修改下方代码\n",
    "train_targets=np.array(train_content['cuisine']).tolist()\n",
    "train_targets[:10]"
   ]
  },
  {
   "cell_type": "markdown",
   "metadata": {},
   "source": [
    "### 编程练习\n",
    "这里我们为了防止前面步骤中累积的错误，导致以下步骤无法正常运行。我们在此检查处理完的实验数据是否正确，请打印`train_tfidf`和`train_targets`中前五个数据。"
   ]
  },
  {
   "cell_type": "code",
   "execution_count": 15,
   "metadata": {},
   "outputs": [
    {
     "data": {
      "text/html": [
       "<div>\n",
       "<style>\n",
       "    .dataframe thead tr:only-child th {\n",
       "        text-align: right;\n",
       "    }\n",
       "\n",
       "    .dataframe thead th {\n",
       "        text-align: left;\n",
       "    }\n",
       "\n",
       "    .dataframe tbody tr th {\n",
       "        vertical-align: top;\n",
       "    }\n",
       "</style>\n",
       "<table border=\"1\" class=\"dataframe\">\n",
       "  <thead>\n",
       "    <tr style=\"text-align: right;\">\n",
       "      <th></th>\n",
       "      <th>0</th>\n",
       "    </tr>\n",
       "  </thead>\n",
       "  <tbody>\n",
       "    <tr>\n",
       "      <th>0</th>\n",
       "      <td>greek</td>\n",
       "    </tr>\n",
       "    <tr>\n",
       "      <th>1</th>\n",
       "      <td>southern_us</td>\n",
       "    </tr>\n",
       "    <tr>\n",
       "      <th>2</th>\n",
       "      <td>filipino</td>\n",
       "    </tr>\n",
       "    <tr>\n",
       "      <th>3</th>\n",
       "      <td>indian</td>\n",
       "    </tr>\n",
       "    <tr>\n",
       "      <th>4</th>\n",
       "      <td>indian</td>\n",
       "    </tr>\n",
       "  </tbody>\n",
       "</table>\n",
       "</div>"
      ],
      "text/plain": [
       "             0\n",
       "0        greek\n",
       "1  southern_us\n",
       "2     filipino\n",
       "3       indian\n",
       "4       indian"
      ]
     },
     "execution_count": 15,
     "metadata": {},
     "output_type": "execute_result"
    }
   ],
   "source": [
    "# 你需要通过head()函数来预览训练集train_tfidf,train_targets数据\n",
    "train_tfidf=pd.DataFrame(train_tfidf)\n",
    "train_targets=pd.DataFrame(train_targets)\n",
    "train_tfidf.head()\n",
    "train_targets.head()"
   ]
  },
  {
   "cell_type": "markdown",
   "metadata": {},
   "source": [
    "### 3.3 验证集划分\n",
    "为了在实验中大致估计模型的精确度我们将从原本的`train_ingredients` 划分出 `20%` 的数据用作`valid_ingredients`。"
   ]
  },
  {
   "cell_type": "markdown",
   "metadata": {},
   "source": [
    "### 编程练习：数据分割与重排\n",
    "调用`train_test_split`函数将训练集划分为新的训练集和验证集，便于之后的模型精度观测。\n",
    "* 从`sklearn.model_selection`中导入`train_test_split`\n",
    "* 将`train_tfidf`和`train_targets`作为`train_test_split`的输入变量\n",
    "* 设置`test_size`为0.2，划分出20%的验证集，80%的数据留作新的训练集。\n",
    "* 设置`random_state`随机种子，以确保每一次运行都可以得到相同划分的结果。（随机种子固定，生成的随机序列就是确定的）"
   ]
  },
  {
   "cell_type": "code",
   "execution_count": 16,
   "metadata": {},
   "outputs": [],
   "source": [
    "### TODO：划分出验证集\n",
    "\n",
    "from sklearn.model_selection import train_test_split\n",
    "\n",
    "X_train , X_valid , y_train, y_valid = train_test_split(train_tfidf,train_targets,test_size=0.2,random_state=11)"
   ]
  },
  {
   "cell_type": "markdown",
   "metadata": {},
   "source": [
    "### 3.2 建立模型 \n",
    "调用 `sklearn` 中的逻辑回归模型（Logistic Regression）。"
   ]
  },
  {
   "cell_type": "markdown",
   "metadata": {},
   "source": [
    "### 编程练习：训练模型\n",
    "* 从`sklearn.linear_model`导入`LogisticRegression`\n",
    "* 从`sklearn.model_selection`导入`GridSearchCV`, 参数自动搜索，只要把参数输进去，就能给出最优的结果和参数，这个方法适合小数据集。\n",
    "* 定义`parameters`变量：为`C`参数创造一个字典，它的值是从1至10的数组;\n",
    "* 定义`classifier`变量: 使用导入的`LogisticRegression`创建一个分类函数;\n",
    "* 定义`grid`变量: 使用导入的`GridSearchCV`创建一个网格搜索对象；将变量'classifier', 'parameters'作为参数传至这个对象构造函数中；"
   ]
  },
  {
   "cell_type": "code",
   "execution_count": null,
   "metadata": {},
   "outputs": [
    {
     "name": "stderr",
     "output_type": "stream",
     "text": [
      "/opt/conda/lib/python3.6/site-packages/sklearn/utils/validation.py:578: DataConversionWarning: A column-vector y was passed when a 1d array was expected. Please change the shape of y to (n_samples, ), for example using ravel().\n",
      "  y = column_or_1d(y, warn=True)\n",
      "/opt/conda/lib/python3.6/site-packages/sklearn/utils/validation.py:578: DataConversionWarning: A column-vector y was passed when a 1d array was expected. Please change the shape of y to (n_samples, ), for example using ravel().\n",
      "  y = column_or_1d(y, warn=True)\n",
      "/opt/conda/lib/python3.6/site-packages/sklearn/utils/validation.py:578: DataConversionWarning: A column-vector y was passed when a 1d array was expected. Please change the shape of y to (n_samples, ), for example using ravel().\n",
      "  y = column_or_1d(y, warn=True)\n",
      "/opt/conda/lib/python3.6/site-packages/sklearn/utils/validation.py:578: DataConversionWarning: A column-vector y was passed when a 1d array was expected. Please change the shape of y to (n_samples, ), for example using ravel().\n",
      "  y = column_or_1d(y, warn=True)\n",
      "/opt/conda/lib/python3.6/site-packages/sklearn/utils/validation.py:578: DataConversionWarning: A column-vector y was passed when a 1d array was expected. Please change the shape of y to (n_samples, ), for example using ravel().\n",
      "  y = column_or_1d(y, warn=True)\n",
      "/opt/conda/lib/python3.6/site-packages/sklearn/utils/validation.py:578: DataConversionWarning: A column-vector y was passed when a 1d array was expected. Please change the shape of y to (n_samples, ), for example using ravel().\n",
      "  y = column_or_1d(y, warn=True)\n",
      "/opt/conda/lib/python3.6/site-packages/sklearn/utils/validation.py:578: DataConversionWarning: A column-vector y was passed when a 1d array was expected. Please change the shape of y to (n_samples, ), for example using ravel().\n",
      "  y = column_or_1d(y, warn=True)\n",
      "/opt/conda/lib/python3.6/site-packages/sklearn/utils/validation.py:578: DataConversionWarning: A column-vector y was passed when a 1d array was expected. Please change the shape of y to (n_samples, ), for example using ravel().\n",
      "  y = column_or_1d(y, warn=True)\n",
      "/opt/conda/lib/python3.6/site-packages/sklearn/utils/validation.py:578: DataConversionWarning: A column-vector y was passed when a 1d array was expected. Please change the shape of y to (n_samples, ), for example using ravel().\n",
      "  y = column_or_1d(y, warn=True)\n"
     ]
    }
   ],
   "source": [
    "from sklearn.linear_model import LogisticRegression\n",
    "from sklearn.model_selection import GridSearchCV\n",
    "## TODO: 建立逻辑回归模型\n",
    "parameters = {'C':[1,2,3,4,5,6,7,8,9,10]}\n",
    "classifier = LogisticRegression()\n",
    "grid = GridSearchCV(classifier,parameters)\n",
    "## 请不要修改下方代码\n",
    "grid = grid.fit(X_train, y_train)"
   ]
  },
  {
   "cell_type": "markdown",
   "metadata": {},
   "source": [
    "模型训练结束之后，我们计算模型在验证集`X_valid`上预测结果，并计算模型的预测精度（与`y_valid`逐个比较）。"
   ]
  },
  {
   "cell_type": "code",
   "execution_count": null,
   "metadata": {},
   "outputs": [],
   "source": [
    "## 请不要修改下方代码\n",
    "from sklearn.metrics import accuracy_score ## 计算模型的准确率\n",
    "\n",
    "valid_predict = grid.predict(X_valid)\n",
    "valid_score=accuracy_score(y_valid,valid_predict)\n",
    "\n",
    "print(\"验证集上的得分为：{}\".format(valid_score))"
   ]
  },
  {
   "cell_type": "markdown",
   "metadata": {},
   "source": [
    "---\n",
    "## 第四步. 模型预测（可选）"
   ]
  },
  {
   "cell_type": "markdown",
   "metadata": {},
   "source": [
    "### 4.1 预测测试集\n",
    "\n",
    "### 编程练习\n",
    "* 将模型`grid`对测试集`test_tfidf`做预测，然后查看预测结果。"
   ]
  },
  {
   "cell_type": "code",
   "execution_count": 117,
   "metadata": {},
   "outputs": [
    {
     "name": "stdout",
     "output_type": "stream",
     "text": [
      "预测的测试集个数为：9944\n"
     ]
    },
    {
     "data": {
      "text/html": [
       "<div>\n",
       "<style>\n",
       "    .dataframe thead tr:only-child th {\n",
       "        text-align: right;\n",
       "    }\n",
       "\n",
       "    .dataframe thead th {\n",
       "        text-align: left;\n",
       "    }\n",
       "\n",
       "    .dataframe tbody tr th {\n",
       "        vertical-align: top;\n",
       "    }\n",
       "</style>\n",
       "<table border=\"1\" class=\"dataframe\">\n",
       "  <thead>\n",
       "    <tr style=\"text-align: right;\">\n",
       "      <th></th>\n",
       "      <th>id</th>\n",
       "      <th>ingredients</th>\n",
       "      <th>cuisine</th>\n",
       "    </tr>\n",
       "  </thead>\n",
       "  <tbody>\n",
       "    <tr>\n",
       "      <th>0</th>\n",
       "      <td>18009</td>\n",
       "      <td>[baking powder, eggs, all-purpose flour, raisins, milk, white sugar]</td>\n",
       "      <td>british</td>\n",
       "    </tr>\n",
       "    <tr>\n",
       "      <th>1</th>\n",
       "      <td>28583</td>\n",
       "      <td>[sugar, egg yolks, corn starch, cream of tartar, bananas, vanilla wafers, milk, vanilla extract, toasted pecans, egg...</td>\n",
       "      <td>southern_us</td>\n",
       "    </tr>\n",
       "    <tr>\n",
       "      <th>2</th>\n",
       "      <td>41580</td>\n",
       "      <td>[sausage links, fennel bulb, fronds, olive oil, cuban peppers, onions]</td>\n",
       "      <td>italian</td>\n",
       "    </tr>\n",
       "    <tr>\n",
       "      <th>3</th>\n",
       "      <td>29752</td>\n",
       "      <td>[meat cuts, file powder, smoked sausage, okra, shrimp, andouille sausage, water, paprika, hot sauce, garlic cloves, ...</td>\n",
       "      <td>cajun_creole</td>\n",
       "    </tr>\n",
       "    <tr>\n",
       "      <th>4</th>\n",
       "      <td>35687</td>\n",
       "      <td>[ground black pepper, salt, sausage casings, leeks, parmigiano reggiano cheese, cornmeal, water, extra-virgin olive ...</td>\n",
       "      <td>italian</td>\n",
       "    </tr>\n",
       "    <tr>\n",
       "      <th>5</th>\n",
       "      <td>38527</td>\n",
       "      <td>[baking powder, all-purpose flour, peach slices, corn starch, heavy cream, lemon juice, unsalted butter, salt, white...</td>\n",
       "      <td>southern_us</td>\n",
       "    </tr>\n",
       "    <tr>\n",
       "      <th>6</th>\n",
       "      <td>19666</td>\n",
       "      <td>[grape juice, orange, white zinfandel]</td>\n",
       "      <td>french</td>\n",
       "    </tr>\n",
       "    <tr>\n",
       "      <th>7</th>\n",
       "      <td>41217</td>\n",
       "      <td>[ground ginger, white pepper, green onions, orange juice, sugar, Sriracha, vegetable oil, orange zest, chicken broth...</td>\n",
       "      <td>chinese</td>\n",
       "    </tr>\n",
       "    <tr>\n",
       "      <th>8</th>\n",
       "      <td>28753</td>\n",
       "      <td>[diced onions, taco seasoning mix, all-purpose flour, chopped cilantro fresh, ground cumin, ground cinnamon, vegetab...</td>\n",
       "      <td>mexican</td>\n",
       "    </tr>\n",
       "    <tr>\n",
       "      <th>9</th>\n",
       "      <td>22659</td>\n",
       "      <td>[eggs, cherries, dates, dark muscovado sugar, ground cinnamon, mixed spice, cake, vanilla extract, self raising flou...</td>\n",
       "      <td>british</td>\n",
       "    </tr>\n",
       "  </tbody>\n",
       "</table>\n",
       "</div>"
      ],
      "text/plain": [
       "      id  \\\n",
       "0  18009   \n",
       "1  28583   \n",
       "2  41580   \n",
       "3  29752   \n",
       "4  35687   \n",
       "5  38527   \n",
       "6  19666   \n",
       "7  41217   \n",
       "8  28753   \n",
       "9  22659   \n",
       "\n",
       "                                                                                                               ingredients  \\\n",
       "0                                                     [baking powder, eggs, all-purpose flour, raisins, milk, white sugar]   \n",
       "1  [sugar, egg yolks, corn starch, cream of tartar, bananas, vanilla wafers, milk, vanilla extract, toasted pecans, egg...   \n",
       "2                                                   [sausage links, fennel bulb, fronds, olive oil, cuban peppers, onions]   \n",
       "3  [meat cuts, file powder, smoked sausage, okra, shrimp, andouille sausage, water, paprika, hot sauce, garlic cloves, ...   \n",
       "4  [ground black pepper, salt, sausage casings, leeks, parmigiano reggiano cheese, cornmeal, water, extra-virgin olive ...   \n",
       "5  [baking powder, all-purpose flour, peach slices, corn starch, heavy cream, lemon juice, unsalted butter, salt, white...   \n",
       "6                                                                                   [grape juice, orange, white zinfandel]   \n",
       "7  [ground ginger, white pepper, green onions, orange juice, sugar, Sriracha, vegetable oil, orange zest, chicken broth...   \n",
       "8  [diced onions, taco seasoning mix, all-purpose flour, chopped cilantro fresh, ground cumin, ground cinnamon, vegetab...   \n",
       "9  [eggs, cherries, dates, dark muscovado sugar, ground cinnamon, mixed spice, cake, vanilla extract, self raising flou...   \n",
       "\n",
       "        cuisine  \n",
       "0       british  \n",
       "1   southern_us  \n",
       "2       italian  \n",
       "3  cajun_creole  \n",
       "4       italian  \n",
       "5   southern_us  \n",
       "6        french  \n",
       "7       chinese  \n",
       "8       mexican  \n",
       "9       british  "
      ]
     },
     "execution_count": 117,
     "metadata": {},
     "output_type": "execute_result"
    }
   ],
   "source": [
    "### TODO：预测测试结果\n",
    "predictions = grid.predict(test_tfidf)\n",
    "\n",
    "## 请不要修改下方代码\n",
    "print(\"预测的测试集个数为：{}\".format(len(predictions)))\n",
    "test_content['cuisine']=predictions\n",
    "test_content.head(10)"
   ]
  },
  {
   "cell_type": "markdown",
   "metadata": {},
   "source": [
    "### 4.2 提交结果\n",
    "为了更好的测试模型的效果，同时比较与其他人的差距，我们将模型的测试集上的结果提交至 [kaggle What's Cooking?](https://www.kaggle.com/c/whats-cooking/submit) （需要提前注册kaggle账号）。\n",
    "\n",
    "**注意**：在提交作业时，请将提交排名得分截图，附在压缩包中。\n"
   ]
  },
  {
   "cell_type": "code",
   "execution_count": 118,
   "metadata": {},
   "outputs": [],
   "source": [
    "## 加载结果格式\n",
    "submit_frame = pd.read_csv(\"sample_submission.csv\")\n",
    "## 保存结果\n",
    "result = pd.merge(submit_frame, test_content, on=\"id\", how='left')\n",
    "result = result.rename(index=str, columns={\"cuisine_y\": \"cuisine\"})\n",
    "test_result_name = \"tfidf_cuisine_test.csv\"\n",
    "result[['id','cuisine']].to_csv(test_result_name,index=False)"
   ]
  },
  {
   "cell_type": "markdown",
   "metadata": {},
   "source": [
    "将生成的 **tfidf_cuisine_test.csv** 提交至 <https://www.kaggle.com/c/whats-cooking/submit> 然后选择 **Upload Submission File**, 点击 **Make submission**即可。稍作等待，就可以看到右上角的评分结果（得分大致为：`0.78580` 左右）。"
   ]
  }
 ],
 "metadata": {
  "anaconda-cloud": {},
  "kernelspec": {
   "display_name": "Python 3",
   "language": "python",
   "name": "python3"
  },
  "language_info": {
   "codemirror_mode": {
    "name": "ipython",
    "version": 3
   },
   "file_extension": ".py",
   "mimetype": "text/x-python",
   "name": "python",
   "nbconvert_exporter": "python",
   "pygments_lexer": "ipython3",
   "version": "3.6.3"
  }
 },
 "nbformat": 4,
 "nbformat_minor": 2
}
