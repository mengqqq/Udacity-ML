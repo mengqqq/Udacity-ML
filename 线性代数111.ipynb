{
 "cells": [
  {
   "cell_type": "markdown",
   "metadata": {},
   "source": [
    "#  线性代数：机器学习背后的优化原理\n",
    "线性代数作为数学的一个分支，广泛应用于科学和工程中，掌握好线性代数对于理解和从事机器学习算法相关工作是很有必要的，尤其对于深度学习算法而言。<br/>因此，这个项目会从浅入深更好的帮助你学习与积累一些跟人工智能强相关的线性代数的知识。<br/>\n",
    "本项目内容理论知识部分参考[《DeepLearning》](https://book.douban.com/subject/27087503/)又名花书第二章，希望大家支持正版购买图书。<br/>\n",
    "若项目中的题目有困难没完成也没关系，我们鼓励你带着问题提交项目，评审人会给予你诸多帮助。<br/>\n",
    "所有选做题都可以不做，不影响项目通过。如果你做了，那么项目评审会帮你批改，也会因为选做部分做错而判定为不通过。<br/><br/>\n",
    "### 准备工作<br/>\n",
    "我们将讲解常用的线性代数知识，而学员需使用numpy来实现这些知识点（当然也可以自己写算法实现），还需要使用matplotlib完成规定图像习题，<br/>当然，本项目用到的python代码(或numpy的使用)课程中并未完全教授，所以需要学员对相应操作进行学习与查询，<br/>这在我们往后的人工智能学习之旅中是必不可少的一个技能，请大家珍惜此项目的练习机会。<br/>\n",
    "当然，这里提供官方的[numpy Quickstart](https://docs.scipy.org/doc/numpy/user/quickstart.html#)来帮助你更好的完成项目。<br/>\n",
    "本项目还需要使用LaTeX公式，以下两个链接供学习与使用：<br/>\n",
    "[Latex cheatsheet](https://www.authorea.com/users/77723/articles/110898-how-to-write-mathematical-equations-expressions-and-symbols-with-latex-a-cheatsheet)<br/>\n",
    "[aTeX Cookbook](http://www.personal.ceu.hu/tex/cookbook.html#inline)<br/>\n",
    "首先，导入你所需的软件包。一般我们建议在工程开头导入**所有**需要的软件包。\n",
    "\n"
   ]
  },
  {
   "cell_type": "code",
   "execution_count": 43,
   "metadata": {},
   "outputs": [],
   "source": [
    "import numpy as np\n",
    "import matplotlib.pyplot as plt\n",
    "%matplotlib inline\n",
    "#导入工科数学包\n",
    "from sympy import *"
   ]
  },
  {
   "cell_type": "markdown",
   "metadata": {},
   "source": [
    "\n",
    "### 1、标量，向量，矩阵，张量\n",
    "\n",
    "**首先，让我们回顾下基本的定义：**<br/>\n",
    "* 标量（scalar）：形式而言，一个标量是一个单独的数，常用斜体的小写变量名称来表示。$\\vec{v}$<br/>\n",
    "* 向量（vector）：形式而言，一个向量是一列有序数，常用粗体的小写变量名称表示**v**，或者上面标记剪头<br/>\n",
    "* 矩阵（matrix）：形式而言，一个矩阵是一个二维数组，常用大写变量名称表示**A**，表示内部的元素则会使用A<sub>i,j</sub><br/>\n",
    "* 张量（tensor）：形式而言，一个张量是一个多维数组，常用粗体的大写字母变量名称表示**T**，表示内部的元素则会使用A<sub>i,j,z</sub>等等<br/>\n",
    "用图片直观的显示区别如下<br/>\n",
    "![image](https://github.com/udacity/Linear-Algebra-cn/blob/master/images/diff.png?raw=true)\n",
    "**接下来让我们回顾下基本的运算：**<br/>\n",
    "* 加法 <br/><br/>\n",
    "![image](https://github.com/udacity/Linear-Algebra-cn/blob/master/images/add.png?raw=true)\n",
    "* 标量乘法 <br/>\n",
    "![image](https://github.com/udacity/Linear-Algebra-cn/blob/master/images/scmu.png?raw=true)\n",
    "* 转置 <br/>\n",
    "![image](https://github.com/udacity/Linear-Algebra-cn/blob/master/images/trans.png?raw=true)\n",
    "* 矩阵向量乘法（内积，人工智能中常见的拼写：matrix product 或者 dot product）<br/>\n",
    "![image](https://github.com/udacity/Linear-Algebra-cn/blob/master/images/mul.png?raw=true)\n",
    "**线性方程组：**<br/>\n",
    "由矩阵乘法也演变出了我们最常见的线性方程组，已知矩阵与未知向量的乘积，等于另一个已知向量，通过此方程组可求解那个未知向量，一般写为x，具体如下表示。 等式左侧可以这么来理解<br/>\n",
    "既然有未知数，那么自然需要求解未知数，而我们的未知数需要满足所有方程，也不是一直都有解的，下面来列我们二维矩阵所组成的方程解的情况,若两条线平行不存在焦点，那么说明没有一个, 同时满足两个方程，则此方程组无解，同理，若相交，则有一个解，若完全相等，则有无穷个解。<br/>\n",
    "![image](https://github.com/udacity/Linear-Algebra-cn/blob/master/images/axbsolu.png?raw=true)\n",
    "### 1.1、基本运算并绘图\n",
    "例题 $\\vec{v}$+$\\vec{w}$<br/>\n",
    "$\\vec{v}$=\n",
    "$$\n",
    "  \\begin{matrix}\n",
    "   1\\\\\n",
    "   2\\\\\n",
    "  \\end{matrix}\n",
    "$$\n",
    "$\\vec{w}$\n",
    "$$\n",
    "  \\begin{matrix}\n",
    "   -2\\\\\n",
    "   2\\\\\n",
    "  \\end{matrix}\n",
    "$$\n",
    "结果需要先使用numpy计算向量运算结果，并用LaTeX公式表示：<br/>\n",
    " $\\vec{v}$+$\\vec{w}$=\n",
    " $$\n",
    "  \\begin{matrix}\n",
    "   -1\\\\\n",
    "   3\\\\\n",
    "  \\end{matrix}\n",
    "$$\n",
    "并使用matlibplot绘制出(图表颜色样式不要求)<br/>\n",
    "![image](https://github.com/udacity/Linear-Algebra-cn/blob/master/images/add_e.png?raw=true)\n",
    "**1.1.1**<br/>\n",
    "**根据上面例题展示，计算并绘制2$\\vec{v}$-$\\vec{w}$的结果**<br/>\n",
    "$\\vec{v}$=\n",
    "$$\n",
    "  \\begin{matrix}\n",
    "   4\\\\\n",
    "   1\\\\\n",
    "  \\end{matrix}\n",
    "$$\n",
    "$\\vec{w}$=\n",
    "$$\n",
    "  \\begin{matrix}\n",
    "   -1\\\\\n",
    "   3\\\\\n",
    "  \\end{matrix}\n",
    "$$\n",
    "  "
   ]
  },
  {
   "cell_type": "code",
   "execution_count": 44,
   "metadata": {},
   "outputs": [
    {
     "name": "stdout",
     "output_type": "stream",
     "text": [
      "[9 0]\n"
     ]
    },
    {
     "data": {
      "image/png": "[encoded data removed]",
      "text/plain": [
       "<Figure size 432x288 with 1 Axes>"
      ]
     },
     "metadata": {
      "needs_background": "light"
     },
     "output_type": "display_data"
    }
   ],
   "source": [
    "v=np.array([4,1])\n",
    "w=np.array([-1,2])\n",
    "v2=v*2\n",
    "w2=w*(-1)\n",
    "vw=v*2-w\n",
    "print(vw)\n",
    "ax=plt.axes()\n",
    "ax.plot(0,0,\"or\")\n",
    "ax.arrow(0,0,*v2,color=\"b\",linestyle=\"dotted\",linewidth=2.5,head_width=0.30,head_length=0.35)\n",
    "ax.arrow(v2[0],v2[1],*w2,color=\"r\",linestyle=\"dotted\",linewidth=2.5,head_width=0.3,head_length=0.35)\n",
    "ax.arrow(0,0,*vw,linewidth=2.5,head_width=0.30,head_length=0.35)\n",
    "plt.xlim(-2,10)\n",
    "plt.ylim(-2,4)\n",
    "plt.grid()\n",
    "plt.show()\n"
   ]
  },
  {
   "cell_type": "markdown",
   "metadata": {},
   "source": [
    "例题，方程组求解：<br/>\n",
    "\n",
    "               y=2x+1\n",
    "               y=6x-2\n",
    "\n",
    "            \n",
    "            \n",
    "               \n",
    "用matplotlib绘制图表（图表样式不要求） \n",
    "![image](https://github.com/udacity/Linear-Algebra-cn/blob/master/images/2equ_solu.png?raw=true)\n",
    "由上可知此方程组有且仅有一个解<br/>\n",
    "需使用numpy（或自写算法）计算该解的结果,并用LaTeX公式表示出来(结果可以用小数或者分数展示) <br/>\n",
    "\n",
    "               x=3/4\n",
    "               y=5/2\n",
    "\n",
    "                          "
   ]
  },
  {
   "cell_type": "markdown",
   "metadata": {},
   "source": [
    "**1.1.2绘制方程组，说明是否有解是否为唯一解，若有解需计算出方程组的解 **<br/>\n",
    "y=2x+1<br/>\n",
    "y=0.1x+6"
   ]
  },
  {
   "cell_type": "code",
   "execution_count": 45,
   "metadata": {},
   "outputs": [
    {
     "name": "stdout",
     "output_type": "stream",
     "text": [
      "{x: 2.63157894736842, y: 6.26315789473684}\n"
     ]
    }
   ],
   "source": [
    "\n",
    "#定义未知数X\n",
    "x=Symbol(\"x\")\n",
    "#定义未知数y\n",
    "y=Symbol(\"y\")\n",
    "#打印方程组求解的结果\n",
    "print(solve([y-2*x-1,y-(1/10)*x-6],[x,y]))"
   ]
  },
  {
   "cell_type": "code",
   "execution_count": 46,
   "metadata": {},
   "outputs": [
    {
     "data": {
      "image/png": "[encoded data removed]",
      "text/plain": [
       "<Figure size 432x288 with 1 Axes>"
      ]
     },
     "metadata": {
      "needs_background": "light"
     },
     "output_type": "display_data"
    }
   ],
   "source": [
    "#方程组可视化\n",
    "x_1=np.linspace(0,10,100)\n",
    "y_1=2*x_1+1\n",
    "plt.plot(x_1,y_1)\n",
    "x_2=np.linspace(0,10,100)\n",
    "y_2=0.1*x_2+6\n",
    "plt.plot(x_2,y_2)\n",
    "plt.show()"
   ]
  },
  {
   "cell_type": "markdown",
   "metadata": {},
   "source": [
    "**1.2.1使用numpy（或自写算法）说明(AB)<sup>T</sup>=B<sup>T</sup>*A<sup>T</sup> **"
   ]
  },
  {
   "cell_type": "code",
   "execution_count": 47,
   "metadata": {},
   "outputs": [],
   "source": [
    "#定义A矩阵\n",
    "A=[[21,7],\n",
    "   [15,42],\n",
    "   [9,6]]\n",
    "#定义B矩阵\n",
    "B=[[4],\n",
    "   [33]]"
   ]
  },
  {
   "cell_type": "code",
   "execution_count": 48,
   "metadata": {},
   "outputs": [
    {
     "name": "stdout",
     "output_type": "stream",
     "text": [
      "[[ 315 1446  234]]\n"
     ]
    }
   ],
   "source": [
    "#AB矩阵相乘\n",
    "mul_AB=np.matmul(A,B)\n",
    "#将相乘后的AB矩阵结果转置并打印出来\n",
    "tran_mulAB=np.transpose(mul_AB)\n",
    "print(tran_mulAB)"
   ]
  },
  {
   "cell_type": "code",
   "execution_count": 49,
   "metadata": {},
   "outputs": [
    {
     "name": "stdout",
     "output_type": "stream",
     "text": [
      "[[ 315 1446  234]]\n"
     ]
    }
   ],
   "source": [
    "#将A矩阵进行转置\n",
    "tran_A=np.transpose(A)\n",
    "#将B矩阵进行转置\n",
    "tran_B=np.transpose(B)\n",
    "#将转置后的B矩阵与转置后的A矩阵相乘，并打印出来\n",
    "tranA_tranB=np.matmul(tran_B,tran_A)\n",
    "print(tranA_tranB)"
   ]
  },
  {
   "cell_type": "markdown",
   "metadata": {},
   "source": [
    "**1.2.2使用numpy（或自写算法）说明A(B+C)=AB+AC<br/>**"
   ]
  },
  {
   "cell_type": "code",
   "execution_count": 50,
   "metadata": {},
   "outputs": [
    {
     "name": "stdout",
     "output_type": "stream",
     "text": [
      "[[117]\n",
      " [116]\n",
      " [124]]\n"
     ]
    }
   ],
   "source": [
    "#定义A矩阵\n",
    "A=np.array([[9,3],\n",
    "   [8,4],\n",
    "   [7,6]])\n",
    "#定义B矩阵\n",
    "B=np.array([[5],\n",
    "   [2]])\n",
    "#定义C矩阵\n",
    "C=np.array([[5],\n",
    "   [7]])\n",
    "#计算B+C结果赋值给D\n",
    "D=B+C\n",
    "#计算A乘D的结果赋值给E\n",
    "mulAD=np.matmul(A,D)\n",
    "print(mulAD)"
   ]
  },
  {
   "cell_type": "code",
   "execution_count": 51,
   "metadata": {},
   "outputs": [
    {
     "name": "stdout",
     "output_type": "stream",
     "text": [
      "[[117]\n",
      " [116]\n",
      " [124]]\n"
     ]
    }
   ],
   "source": [
    "#计算AB结果\n",
    "mul_AB=np.matmul(A,B)\n",
    "#计算AC结果\n",
    "mul_AC=np.matmul(A,C)\n",
    "#计算AB+AC的结果\n",
    "sum_AB_AC=mul_AB+mul_AC\n",
    "print(sum_AB_AC)"
   ]
  },
  {
   "cell_type": "markdown",
   "metadata": {},
   "source": [
    "# 2、特殊矩阵\n",
    "\n",
    "* 单位矩阵<br/>\n",
    "如果选取任意一个向量和某矩阵相乘，该向量都不会改变，我们将这种保持n维向量不变的矩阵记为单位矩阵I<sub>n</sub>\n",
    "* 逆矩阵<br/>\n",
    "如果存在一个矩阵A<sup>-1</sup>A=I<sub>n</sub>，使A<sup>-1</sup>，那么就是A的逆矩阵。<br/>\n",
    "* 对角矩阵<br/>\n",
    "如果一个矩阵只有主对角线上还有非零元素，其他位置都是零，这个矩阵就是对角矩阵<br/>\n",
    "* 对称矩阵<br/>\n",
    "如果一个矩阵的转置是和它自己相等的矩阵，即A=A<sup>T</sup>，那么这个矩阵就是对称矩阵<br/>\n",
    "* 正交矩阵<br/>\n",
    "行向量和列向量是分别标准正交(90度)的方阵，即A<sup>T</sup>A=AA<sup>T</sup>=I<sub>n</sub>，又即A<sup>-1</sup>=A<sup>T</sup>，那么这种方阵就是正交矩阵<br/><br/>\n",
    "**2.1、证明题 通过LaTeX公式，结合概念，假设存在的情况下，证明的解 Ax=b的解x=A<sup>-1</sup>b**"
   ]
  },
  {
   "cell_type": "code",
   "execution_count": 52,
   "metadata": {},
   "outputs": [
    {
     "name": "stdout",
     "output_type": "stream",
     "text": [
      "[[2 4]\n",
      " [6 8]]\n",
      "2\n"
     ]
    }
   ],
   "source": [
    "#定义一个矩阵A两行两列\n",
    "A=np.array([[1,2],[3,4]])\n",
    "x=2\n",
    "b=A*x\n",
    "print(b)\n",
    "print(x)"
   ]
  },
  {
   "cell_type": "code",
   "execution_count": 53,
   "metadata": {},
   "outputs": [
    {
     "name": "stdout",
     "output_type": "stream",
     "text": [
      "[[2.0000000e+00 8.8817842e-16]\n",
      " [0.0000000e+00 2.0000000e+00]]\n"
     ]
    }
   ],
   "source": [
    "#计算矩阵的逆\n",
    "invA=np.linalg.inv(A)\n",
    "x=np.matmul(invA,b)\n",
    "print(x)"
   ]
  },
  {
   "cell_type": "markdown",
   "metadata": {},
   "source": [
    "**2.2、 计算题**\n",
    "**2.2.1通过numpy计算，再次验证2.1证明题  并用LaTeX公式写出A<sup>-1</sup>是多少（小数分数皆可）<br/>**\n",
    "y=2x+1<br/>\n",
    "y=0.1x+6"
   ]
  },
  {
   "cell_type": "code",
   "execution_count": 54,
   "metadata": {},
   "outputs": [
    {
     "name": "stdout",
     "output_type": "stream",
     "text": [
      "[[ 0.52631579 -0.52631579]\n",
      " [ 0.05263158 -1.05263158]]\n"
     ]
    }
   ],
   "source": [
    "#将方程改写成矩阵相乘的形式\n",
    "A=np.array([[2,-1],[0.1,-1]])\n",
    "#计算A的逆\n",
    "invA=np.linalg.inv(A)\n",
    "print(invA)"
   ]
  },
  {
   "cell_type": "markdown",
   "metadata": {},
   "source": [
    "**2.2.2**<br/>\n",
    "**1**、请用numpy（或自写算法）实现一个6x6的对角矩阵，矩阵的对角线由3至8（含8）组成。<br/>\n",
    "**2**、计算第一问生成的对角矩阵与向量[6,7,1,2,5,9]<sup>T</sup>的乘积"
   ]
  },
  {
   "cell_type": "code",
   "execution_count": 55,
   "metadata": {},
   "outputs": [
    {
     "data": {
      "text/plain": [
       "array([[8, 0, 0, 0, 0, 0],\n",
       "       [0, 6, 0, 0, 0, 0],\n",
       "       [0, 0, 4, 0, 0, 0],\n",
       "       [0, 0, 0, 3, 0, 0],\n",
       "       [0, 0, 0, 0, 5, 0],\n",
       "       [0, 0, 0, 0, 0, 5]])"
      ]
     },
     "execution_count": 55,
     "metadata": {},
     "output_type": "execute_result"
    }
   ],
   "source": [
    "#定义一个6行6列的对角矩阵,矩阵的对角线由3至8（含8）组成\n",
    "M=np.array([[np.random.randint(3,9) if i==j else 0 for i in range(6)] for j in range(6)])\n",
    "M"
   ]
  },
  {
   "cell_type": "code",
   "execution_count": 56,
   "metadata": {},
   "outputs": [
    {
     "name": "stdout",
     "output_type": "stream",
     "text": [
      "[[6 7 1 2 5 9]]\n",
      "[[6]\n",
      " [7]\n",
      " [1]\n",
      " [2]\n",
      " [5]\n",
      " [9]]\n"
     ]
    },
    {
     "data": {
      "text/plain": [
       "array([[48],\n",
       "       [42],\n",
       "       [ 4],\n",
       "       [ 6],\n",
       "       [25],\n",
       "       [45]])"
      ]
     },
     "execution_count": 56,
     "metadata": {},
     "output_type": "execute_result"
    }
   ],
   "source": [
    "#定义一个向量N [6,7,1,2,5,9]^T\n",
    "N=np.array([[6,7,1,2,5,9]])\n",
    "tran_N=np.transpose(N)\n",
    "print(N)\n",
    "print(tran_N)\n",
    "\n",
    "#计算M*N^T的值，赋值给M_tran_N\n",
    "M_tran_N=np.matmul(M,tran_N)\n",
    "M_tran_N"
   ]
  },
  {
   "cell_type": "markdown",
   "metadata": {},
   "source": [
    "### 3.迹运算<br/>\n",
    "迹运算返回的是矩阵对角元素的和，如图所示<br/>\n",
    "![image](https://github.com/udacity/Linear-Algebra-cn/blob/master/images/matrix.png?raw=true)\n",
    "写成数学公式为：<br/>\n",
    "Tr(A)=$\\sum$<sub>i</sub>A<sub>i,i</sub><br/>\n",
    "**说明题：**<br/>\n",
    "使用numpy验证 <br>\n",
    "\n",
    "              Tr(ABC)=Tr(CAB)=Tr(BCA)"
   ]
  },
  {
   "cell_type": "code",
   "execution_count": 57,
   "metadata": {},
   "outputs": [
    {
     "name": "stdout",
     "output_type": "stream",
     "text": [
      "[[ 262 1891]\n",
      " [ 539 3878]]\n",
      "[[3039 3609]\n",
      " [ 928 1101]]\n",
      "[[3447  441]\n",
      " [5424  693]]\n",
      "4140\n",
      "4140\n",
      "4140\n"
     ]
    }
   ],
   "source": [
    "#定义A,B,C三个矩阵\n",
    "A=np.array([[7,6],[29,3]])\n",
    "B=np.array([[5,6],[8,9]])\n",
    "C=np.array([[2,17],[1,5]])\n",
    "#分别计算ABC，CAB，BCA的迹\n",
    "AB=np.matmul(A,B)\n",
    "ABC=np.matmul(AB,C)\n",
    "CA=np.matmul(C,A)\n",
    "CAB=np.matmul(CA,B)\n",
    "BC=np.matmul(B,C)\n",
    "BCA=np.matmul(BC,A)\n",
    "print(ABC)\n",
    "print(CAB)\n",
    "print(BCA)\n",
    "trac_ABC=np.trace(ABC)\n",
    "trac_CAB=np.trace(CAB)\n",
    "trac_BCA=np.trace(BCA)\n",
    "print(trac_ABC)\n",
    "print(trac_CAB)\n",
    "print(trac_BCA)"
   ]
  },
  {
   "cell_type": "markdown",
   "metadata": {},
   "source": [
    "### 4、衡量向量以及矩阵的大小：范数与条件数\n",
    "**范数的定义<br/>**\n",
    "在线性代数等数学分支中，范数（Norm）是一个函数，其给予某向量空间（或矩阵）中的每个向量以长度或称之为大小。对于零向量，其长度为零。直观的说，向量或矩阵的范数越大，则我们可以说这个向量或矩阵也就越大。有时范数有很多更为常见的叫法，如绝对值其实便是一维向量空间中实数或复数的范数，范数的一般化定义：设p>=1，p-norm用以下来表示<br/>\n",
    "||x||<sub>p</sub>=($\\sum$<sub>i</sub>|x<sub>i</sub>|<sup>p</sup>)<sup>1/p</sup>\n",
    "\n",
    "此处，当p=1时，我们称之曼哈顿范数(Manhattan Norm)。其来源是曼哈顿的出租车司机在四四方方的曼哈顿街道中从一点到另一点所需要走过的距离。也即我们所要讨论的L1范数。其表示某个向量中所有元素绝对值的和。 而当p=2时，则是我们最为常见的Euclidean norm。也称为Euclidean distance，中文叫欧几里得范数，也即我们要讨论的L2范数，他也经常被用来衡量向量的大小。 而当p=0时，严格的说此时p已不算是范数了，L0范数是指向量中非0的元素的个数，但很多人仍然称之为L0范数（Zero norm零范数）。 这三个范数有很多非常有意思的特征，尤其是在机器学习中的正则化（Regularization）以及稀疏编码（Sparse Coding）有非常有趣的应用，这个在进阶课程可以做更深入的了解。<br/>\n",
    "**L0范数**<br/>\n",
    "||x||=\\sqrt[0]{$\\sum$<sub>i</sub>x<sub>i</sub><sup>0</sup>}<br/>\n",
    "**L1范数**<br/>\n",
    "||x||<sub>1</sub>=($\\sum$<sub>i</sub>|x<sub>i</sub>)<br/>\n",
    "**L2范数**<br/>\n",
    "||x||<sub>2</sub>=($\\sum$<sub>i</sub>|x<sub>i</sub>|<sup>2</sup>)<sup>1/2</sup><br/>\n",
    "另外这里还存在特例： 当 p->$\\infty$ 时，我们称之为L<sup>$\\infty$</sup> 范数，也被称为“maximum norm（max范数）”，这个范数表示向量中具有最大幅度的元素的绝对值：<br/>\n",
    "||x||<sup>$\\infty$</sup>=max<sub>i</sub>|x<sub>i</sub>|<br/>\n",
    "[以上资料部分参考wiki](https://en.wikipedia.org/wiki/Norm_(mathematics))\n",
    "### 4.1、计算向量的范数\n",
    "编写一个函数来计算一下向量的各种范数。"
   ]
  },
  {
   "cell_type": "code",
   "execution_count": 58,
   "metadata": {},
   "outputs": [],
   "source": [
    "# TODO 实现这里向量范数计算的函数，要求可以计算p = 0,1,2,3 ... 无穷 情况下的范数\n",
    "\n",
    "\"\"\" 计算向量的范数\n",
    "    参数\n",
    "        x: 向量 numpy数组 或者list数组\n",
    "        p: 范数的阶，int型整数或者None\n",
    "        infty: 是否计算max范数，bool型变量，True的时候表示计算max范数，False的时候计算p范数\n",
    "        \n",
    "    返回\n",
    "        向量的范数，float类型数值\n",
    "        \n",
    "    hint:\n",
    "        1.你需要首先判断infty是True or False, 然后判断p 是否为零\n",
    "        2.注意int类型变量在计算时候需要规整为float类型\n",
    "    \n",
    "\"\"\"\n",
    "def calc_Norm(x, p, infty):\n",
    "    if infty:\n",
    "        x_norm=np.linalg.norm(x,ord=np.inf,keepdims=False)\n",
    "    else:\n",
    "        x_norm=np.linalg.norm(x,ord=p,keepdims=False)\n",
    "    \n",
    "    return x_norm"
   ]
  },
  {
   "cell_type": "code",
   "execution_count": 60,
   "metadata": {},
   "outputs": [],
   "source": [
    "#%run -i -e test.py LinearRegressionTestCase.test_calc_Norm"
   ]
  },
  {
   "cell_type": "markdown",
   "metadata": {},
   "source": [
    "### 4.2、计算矩阵的范数\n",
    "\n",
    "我们也需要衡量矩阵的大小，对于矩阵大小的衡量在很多优化问题中是非常重要的。而在深度学习中，最常见的做法是使用Frobenius 范数(Frobenius norm)，也称作矩阵的F范数，其定义如下：<br/>\n",
    "我们这里继续来计算一下F范数"
   ]
  },
  {
   "cell_type": "code",
   "execution_count": 61,
   "metadata": {},
   "outputs": [],
   "source": [
    "# TODO 实现这里矩阵Frobenius范数计算的函数\n",
    "\n",
    "\"\"\" 计算向量的范数\n",
    "    参数\n",
    "        A: 给定的任意二维矩阵 list或者numpy数组形式\n",
    "        \n",
    "    返回\n",
    "        矩阵的Frobenius范数，float类型数值\n",
    "    \n",
    "\"\"\"\n",
    "def calc_Frobenius_Norm(A):\n",
    "    x_norm = np.linalg.norm(A, ord='fro', keepdims=False)\n",
    "    return x_norm"
   ]
  },
  {
   "cell_type": "code",
   "execution_count": 63,
   "metadata": {},
   "outputs": [],
   "source": [
    "#%run -i -e test.py LinearRegressionTestCase.test_calc_Frobenius_Norm"
   ]
  },
  {
   "cell_type": "markdown",
   "metadata": {},
   "source": [
    "\n",
    "### 4.3、计算矩阵的条件数\n",
    "矩阵的条件数(condition number)是矩阵（或者它所描述的线性系统）的稳定性或者敏感度的度量，我们这里为了简化条件，这里只考虑矩阵是奇异矩阵的时候，如何计算以及理解条件数(condition number):<br/>\n",
    "\n",
    "当矩阵A为奇异矩阵的时候，condition number为无限大；当矩阵A非奇异的时候，我们定义condition number如下：\n",
    "k(A)=||A||<sub>F</sub>||A<sup>-1</sup>||<sub>F</sub>\n"
   ]
  },
  {
   "cell_type": "code",
   "execution_count": 64,
   "metadata": {},
   "outputs": [],
   "source": [
    "\"\"\" 计算矩阵的条件数\n",
    "    参数\n",
    "        A: 给定的任意二维矩阵 list或者numpy数组形式\n",
    "        \n",
    "    返回\n",
    "        矩阵的condition number,\n",
    "    \n",
    "\"\"\"\n",
    "def calc_Condition_Number(A):\n",
    "    \n",
    "        x_cond = np.linalg.cond(A,'fro')\n",
    "        return x_cond"
   ]
  },
  {
   "cell_type": "code",
   "execution_count": 65,
   "metadata": {},
   "outputs": [],
   "source": [
    "#%run -i -e test.py LinearRegressionTestCase.test_calc_Condition_Number"
   ]
  },
  {
   "cell_type": "code",
   "execution_count": null,
   "metadata": {},
   "outputs": [],
   "source": []
  }
 ],
 "metadata": {
  "kernelspec": {
   "display_name": "Python 3",
   "language": "python",
   "name": "python3"
  },
  "language_info": {
   "codemirror_mode": {
    "name": "ipython",
    "version": 3
   },
   "file_extension": ".py",
   "mimetype": "text/x-python",
   "name": "python",
   "nbconvert_exporter": "python",
   "pygments_lexer": "ipython3",
   "version": "3.7.0"
  }
 },
 "nbformat": 4,
 "nbformat_minor": 2
}
